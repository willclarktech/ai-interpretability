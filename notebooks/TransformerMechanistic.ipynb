{
 "cells": [
  {
   "cell_type": "markdown",
   "metadata": {},
   "source": [
    "# Transformer Mechanistic Interpretability\n",
    "\n",
    "Following along with [this LessWrong guide](https://www.lesswrong.com/posts/hnzHrdqn3nrjveayv/how-to-transformer-mechanistic-interpretability-in-50-lines) by [Stefan Heimersheim](https://www.lesswrong.com/users/stefan42)."
   ]
  },
  {
   "cell_type": "code",
   "execution_count": 1,
   "metadata": {},
   "outputs": [],
   "source": [
    "from functools import partial\n",
    "\n",
    "import plotly.express as px\n",
    "import torch\n",
    "from transformer_lens import ActivationCache, HookedTransformer, loading, utils"
   ]
  },
  {
   "cell_type": "code",
   "execution_count": 2,
   "metadata": {},
   "outputs": [],
   "source": [
    "def imshow(\n",
    "    tensor,\n",
    "    xlabel=\"X\",\n",
    "    ylabel=\"Y\",\n",
    "    zlabel=None,\n",
    "    xticks=None,\n",
    "    yticks=None,\n",
    "    c_midpoint=0.0,\n",
    "    c_scale=\"RdBu\",\n",
    "    show=True,\n",
    "    **kwargs\n",
    "):\n",
    "    tensor = utils.to_numpy(tensor)\n",
    "    xticks = [str(x) for x in xticks]\n",
    "    yticks = [str(y) for y in yticks]\n",
    "    labels = {\"x\": xlabel, \"y\": ylabel}\n",
    "    if zlabel is not None:\n",
    "        labels[\"color\"] = zlabel\n",
    "    fig = px.imshow(\n",
    "        tensor,\n",
    "        x=xticks,\n",
    "        y=yticks,\n",
    "        labels=labels,\n",
    "        color_continuous_midpoint=c_midpoint,\n",
    "        color_continuous_scale=c_scale,\n",
    "        **kwargs\n",
    "    )\n",
    "    fig.show()"
   ]
  },
  {
   "cell_type": "markdown",
   "metadata": {},
   "source": [
    "## Step 1: Grab a model"
   ]
  },
  {
   "cell_type": "markdown",
   "metadata": {},
   "source": [
    "### List available models"
   ]
  },
  {
   "cell_type": "code",
   "execution_count": 3,
   "metadata": {},
   "outputs": [
    {
     "name": "stdout",
     "output_type": "stream",
     "text": [
      "Available models:\n",
      "gpt2\n",
      "gpt2-medium\n",
      "gpt2-large\n",
      "gpt2-xl\n",
      "distilgpt2\n",
      "facebook/opt-125m\n",
      "facebook/opt-1.3b\n",
      "facebook/opt-2.7b\n",
      "facebook/opt-6.7b\n",
      "facebook/opt-13b\n",
      "facebook/opt-30b\n",
      "facebook/opt-66b\n",
      "EleutherAI/gpt-neo-125M\n",
      "EleutherAI/gpt-neo-1.3B\n",
      "EleutherAI/gpt-neo-2.7B\n",
      "EleutherAI/gpt-j-6B\n",
      "EleutherAI/gpt-neox-20b\n",
      "stanford-crfm/alias-gpt2-small-x21\n",
      "stanford-crfm/battlestar-gpt2-small-x49\n",
      "stanford-crfm/caprica-gpt2-small-x81\n",
      "stanford-crfm/darkmatter-gpt2-small-x343\n",
      "stanford-crfm/expanse-gpt2-small-x777\n",
      "stanford-crfm/arwen-gpt2-medium-x21\n",
      "stanford-crfm/beren-gpt2-medium-x49\n",
      "stanford-crfm/celebrimbor-gpt2-medium-x81\n",
      "stanford-crfm/durin-gpt2-medium-x343\n",
      "stanford-crfm/eowyn-gpt2-medium-x777\n",
      "EleutherAI/pythia-14m\n",
      "EleutherAI/pythia-31m\n",
      "EleutherAI/pythia-70m\n",
      "EleutherAI/pythia-160m\n",
      "EleutherAI/pythia-410m\n",
      "EleutherAI/pythia-1b\n",
      "EleutherAI/pythia-1.4b\n",
      "EleutherAI/pythia-2.8b\n",
      "EleutherAI/pythia-6.9b\n",
      "EleutherAI/pythia-12b\n",
      "EleutherAI/pythia-70m-deduped\n",
      "EleutherAI/pythia-160m-deduped\n",
      "EleutherAI/pythia-410m-deduped\n",
      "EleutherAI/pythia-1b-deduped\n",
      "EleutherAI/pythia-1.4b-deduped\n",
      "EleutherAI/pythia-2.8b-deduped\n",
      "EleutherAI/pythia-6.9b-deduped\n",
      "EleutherAI/pythia-12b-deduped\n",
      "EleutherAI/pythia-70m-v0\n",
      "EleutherAI/pythia-160m-v0\n",
      "EleutherAI/pythia-410m-v0\n",
      "EleutherAI/pythia-1b-v0\n",
      "EleutherAI/pythia-1.4b-v0\n",
      "EleutherAI/pythia-2.8b-v0\n",
      "EleutherAI/pythia-6.9b-v0\n",
      "EleutherAI/pythia-12b-v0\n",
      "EleutherAI/pythia-70m-deduped-v0\n",
      "EleutherAI/pythia-160m-deduped-v0\n",
      "EleutherAI/pythia-410m-deduped-v0\n",
      "EleutherAI/pythia-1b-deduped-v0\n",
      "EleutherAI/pythia-1.4b-deduped-v0\n",
      "EleutherAI/pythia-2.8b-deduped-v0\n",
      "EleutherAI/pythia-6.9b-deduped-v0\n",
      "EleutherAI/pythia-12b-deduped-v0\n",
      "EleutherAI/pythia-160m-seed1\n",
      "EleutherAI/pythia-160m-seed2\n",
      "EleutherAI/pythia-160m-seed3\n",
      "NeelNanda/SoLU_1L_v9_old\n",
      "NeelNanda/SoLU_2L_v10_old\n",
      "NeelNanda/SoLU_4L_v11_old\n",
      "NeelNanda/SoLU_6L_v13_old\n",
      "NeelNanda/SoLU_8L_v21_old\n",
      "NeelNanda/SoLU_10L_v22_old\n",
      "NeelNanda/SoLU_12L_v23_old\n",
      "NeelNanda/SoLU_1L512W_C4_Code\n",
      "NeelNanda/SoLU_2L512W_C4_Code\n",
      "NeelNanda/SoLU_3L512W_C4_Code\n",
      "NeelNanda/SoLU_4L512W_C4_Code\n",
      "NeelNanda/SoLU_6L768W_C4_Code\n",
      "NeelNanda/SoLU_8L1024W_C4_Code\n",
      "NeelNanda/SoLU_10L1280W_C4_Code\n",
      "NeelNanda/SoLU_12L1536W_C4_Code\n",
      "NeelNanda/GELU_1L512W_C4_Code\n",
      "NeelNanda/GELU_2L512W_C4_Code\n",
      "NeelNanda/GELU_3L512W_C4_Code\n",
      "NeelNanda/GELU_4L512W_C4_Code\n",
      "NeelNanda/Attn_Only_1L512W_C4_Code\n",
      "NeelNanda/Attn_Only_2L512W_C4_Code\n",
      "NeelNanda/Attn_Only_3L512W_C4_Code\n",
      "NeelNanda/Attn_Only_4L512W_C4_Code\n",
      "NeelNanda/Attn-Only-2L512W-Shortformer-6B-big-lr\n",
      "NeelNanda/SoLU_1L512W_Wiki_Finetune\n",
      "NeelNanda/SoLU_4L512W_Wiki_Finetune\n",
      "ArthurConmy/redwood_attn_2l\n",
      "llama-7b-hf\n",
      "llama-13b-hf\n",
      "llama-30b-hf\n",
      "llama-65b-hf\n",
      "meta-llama/Llama-2-7b-hf\n",
      "meta-llama/Llama-2-7b-chat-hf\n",
      "meta-llama/Llama-2-13b-hf\n",
      "meta-llama/Llama-2-13b-chat-hf\n",
      "CodeLlama-7b-hf\n",
      "CodeLlama-7b-Python-hf\n",
      "CodeLlama-7b-Instruct-hf\n",
      "Baidicoot/Othello-GPT-Transformer-Lens\n",
      "bert-base-cased\n",
      "roneneldan/TinyStories-1M\n",
      "roneneldan/TinyStories-3M\n",
      "roneneldan/TinyStories-8M\n",
      "roneneldan/TinyStories-28M\n",
      "roneneldan/TinyStories-33M\n",
      "roneneldan/TinyStories-Instruct-1M\n",
      "roneneldan/TinyStories-Instruct-3M\n",
      "roneneldan/TinyStories-Instruct-8M\n",
      "roneneldan/TinyStories-Instruct-28M\n",
      "roneneldan/TinyStories-Instruct-33M\n",
      "roneneldan/TinyStories-1Layer-21M\n",
      "roneneldan/TinyStories-2Layers-33M\n",
      "roneneldan/TinyStories-Instuct-1Layer-21M\n",
      "roneneldan/TinyStories-Instruct-2Layers-33M\n",
      "stabilityai/stablelm-base-alpha-3b\n",
      "stabilityai/stablelm-base-alpha-7b\n",
      "stabilityai/stablelm-tuned-alpha-3b\n",
      "stabilityai/stablelm-tuned-alpha-7b\n",
      "mistralai/Mistral-7B-v0.1\n",
      "mistralai/Mistral-7B-Instruct-v0.1\n",
      "bigscience/bloom-560m\n",
      "bigscience/bloom-1b1\n",
      "bigscience/bloom-1b7\n",
      "bigscience/bloom-3b\n",
      "bigscience/bloom-7b1\n",
      "bigcode/santacoder\n",
      "Qwen/Qwen-1_8B\n",
      "Qwen/Qwen-7B\n",
      "Qwen/Qwen-14B\n",
      "Qwen/Qwen-1_8B-Chat\n",
      "Qwen/Qwen-7B-Chat\n",
      "Qwen/Qwen-14B-Chat\n",
      "Qwen/Qwen1.5-0.5B\n",
      "Qwen/Qwen1.5-0.5B-Chat\n",
      "Qwen/Qwen1.5-1.8B\n",
      "Qwen/Qwen1.5-1.8B-Chat\n",
      "Qwen/Qwen1.5-4B\n",
      "Qwen/Qwen1.5-4B-Chat\n",
      "Qwen/Qwen1.5-7B\n",
      "Qwen/Qwen1.5-7B-Chat\n",
      "Qwen/Qwen1.5-14B\n",
      "Qwen/Qwen1.5-14B-Chat\n",
      "microsoft/phi-1\n",
      "microsoft/phi-1_5\n",
      "microsoft/phi-2\n",
      "google/gemma-2b\n",
      "google/gemma-7b\n",
      "google/gemma-2b-it\n",
      "google/gemma-7b-it\n"
     ]
    }
   ],
   "source": [
    "print(\"Available models:\")\n",
    "print(\"\\n\".join(loading.OFFICIAL_MODEL_NAMES))"
   ]
  },
  {
   "cell_type": "markdown",
   "metadata": {},
   "source": [
    "### Create a model"
   ]
  },
  {
   "cell_type": "code",
   "execution_count": 4,
   "metadata": {},
   "outputs": [
    {
     "name": "stdout",
     "output_type": "stream",
     "text": [
      "Loaded pretrained model gpt2-small into HookedTransformer\n"
     ]
    }
   ],
   "source": [
    "model = HookedTransformer.from_pretrained(\"gpt2-small\")\n",
    "model.eval()"
   ]
  },
  {
   "cell_type": "markdown",
   "metadata": {},
   "source": [
    "### Make a prediction"
   ]
  },
  {
   "cell_type": "code",
   "execution_count": 5,
   "metadata": {},
   "outputs": [
    {
     "name": "stdout",
     "output_type": "stream",
     "text": [
      " Turing\n"
     ]
    }
   ],
   "source": [
    "example_prompt = \"Famous computer scientist Alan\"\n",
    "logits, cache = model.run_with_cache(example_prompt)\n",
    "next_token_logits = logits[0, -1]\n",
    "next_token_prediction = next_token_logits.argmax()\n",
    "next_word_prediction = model.tokenizer.decode(next_token_prediction)\n",
    "print(next_word_prediction)"
   ]
  },
  {
   "cell_type": "markdown",
   "metadata": {},
   "source": [
    "### Show dictionary of internal activations"
   ]
  },
  {
   "cell_type": "code",
   "execution_count": 6,
   "metadata": {},
   "outputs": [
    {
     "name": "stdout",
     "output_type": "stream",
     "text": [
      "hook_embed: torch.Size([1, 6, 768]), -2.980232238769531e-07\n",
      "hook_pos_embed: torch.Size([1, 6, 768]), 4.76837158203125e-07\n",
      "blocks.0.hook_resid_pre: torch.Size([1, 6, 768]), 5.960464477539062e-07\n",
      "blocks.0.ln1.hook_scale: torch.Size([1, 6, 1]), 1.3880438804626465\n",
      "blocks.0.ln1.hook_normalized: torch.Size([1, 6, 768]), 3.5762786865234375e-06\n",
      "blocks.0.attn.hook_q: torch.Size([1, 6, 12, 64]), -255.4600830078125\n",
      "blocks.0.attn.hook_k: torch.Size([1, 6, 12, 64]), 132.67422485351562\n",
      "blocks.0.attn.hook_v: torch.Size([1, 6, 12, 64]), 2.7353835105895996\n",
      "blocks.0.attn.hook_attn_scores: torch.Size([1, 12, 6, 6]), -inf\n",
      "blocks.0.attn.hook_pattern: torch.Size([1, 12, 6, 6]), 72.0\n",
      "blocks.0.attn.hook_z: torch.Size([1, 6, 12, 64]), -11.567606925964355\n",
      "blocks.0.hook_attn_out: torch.Size([1, 6, 768]), 3.552436828613281e-05\n",
      "blocks.0.hook_resid_mid: torch.Size([1, 6, 768]), 3.266334533691406e-05\n",
      "blocks.0.ln2.hook_scale: torch.Size([1, 6, 1]), 6.629210948944092\n",
      "blocks.0.ln2.hook_normalized: torch.Size([1, 6, 768]), 7.62939453125e-06\n",
      "blocks.0.mlp.hook_pre: torch.Size([1, 6, 3072]), -18021.359375\n",
      "blocks.0.mlp.hook_post: torch.Size([1, 6, 3072]), -701.3973388671875\n",
      "blocks.0.hook_mlp_out: torch.Size([1, 6, 768]), 2.86102294921875e-06\n",
      "blocks.0.hook_resid_post: torch.Size([1, 6, 768]), 3.1948089599609375e-05\n",
      "blocks.1.hook_resid_pre: torch.Size([1, 6, 768]), 3.1948089599609375e-05\n",
      "blocks.1.ln1.hook_scale: torch.Size([1, 6, 1]), 17.35387420654297\n",
      "blocks.1.ln1.hook_normalized: torch.Size([1, 6, 768]), 4.410743713378906e-06\n",
      "blocks.1.attn.hook_q: torch.Size([1, 6, 12, 64]), 24.814842224121094\n",
      "blocks.1.attn.hook_k: torch.Size([1, 6, 12, 64]), -172.48333740234375\n",
      "blocks.1.attn.hook_v: torch.Size([1, 6, 12, 64]), 10.086359024047852\n",
      "blocks.1.attn.hook_attn_scores: torch.Size([1, 12, 6, 6]), -inf\n",
      "blocks.1.attn.hook_pattern: torch.Size([1, 12, 6, 6]), 72.0\n",
      "blocks.1.attn.hook_z: torch.Size([1, 6, 12, 64]), -13.523300170898438\n",
      "blocks.1.hook_attn_out: torch.Size([1, 6, 768]), -9.059906005859375e-06\n",
      "blocks.1.hook_resid_mid: torch.Size([1, 6, 768]), 8.58306884765625e-06\n",
      "blocks.1.ln2.hook_scale: torch.Size([1, 6, 1]), 17.975406646728516\n",
      "blocks.1.ln2.hook_normalized: torch.Size([1, 6, 768]), 8.58306884765625e-06\n",
      "blocks.1.mlp.hook_pre: torch.Size([1, 6, 3072]), -11807.51171875\n",
      "blocks.1.mlp.hook_post: torch.Size([1, 6, 3072]), -206.42469787597656\n",
      "blocks.1.hook_mlp_out: torch.Size([1, 6, 768]), -0.00011777877807617188\n",
      "blocks.1.hook_resid_post: torch.Size([1, 6, 768]), 2.47955322265625e-05\n",
      "blocks.2.hook_resid_pre: torch.Size([1, 6, 768]), 2.47955322265625e-05\n",
      "blocks.2.ln1.hook_scale: torch.Size([1, 6, 1]), 34.43251037597656\n",
      "blocks.2.ln1.hook_normalized: torch.Size([1, 6, 768]), -1.0013580322265625e-05\n",
      "blocks.2.attn.hook_q: torch.Size([1, 6, 12, 64]), -179.9912109375\n",
      "blocks.2.attn.hook_k: torch.Size([1, 6, 12, 64]), -98.84309387207031\n",
      "blocks.2.attn.hook_v: torch.Size([1, 6, 12, 64]), -33.09147644042969\n",
      "blocks.2.attn.hook_attn_scores: torch.Size([1, 12, 6, 6]), -inf\n",
      "blocks.2.attn.hook_pattern: torch.Size([1, 12, 6, 6]), 72.0\n",
      "blocks.2.attn.hook_z: torch.Size([1, 6, 12, 64]), -35.91792678833008\n",
      "blocks.2.hook_attn_out: torch.Size([1, 6, 768]), -2.110004425048828e-05\n",
      "blocks.2.hook_resid_mid: torch.Size([1, 6, 768]), -5.054473876953125e-05\n",
      "blocks.2.ln2.hook_scale: torch.Size([1, 6, 1]), 34.992637634277344\n",
      "blocks.2.ln2.hook_normalized: torch.Size([1, 6, 768]), -1.5020370483398438e-05\n",
      "blocks.2.mlp.hook_pre: torch.Size([1, 6, 3072]), -19941.8671875\n",
      "blocks.2.mlp.hook_post: torch.Size([1, 6, 3072]), -160.3128662109375\n",
      "blocks.2.hook_mlp_out: torch.Size([1, 6, 768]), -0.00024962425231933594\n",
      "blocks.2.hook_resid_post: torch.Size([1, 6, 768]), 0.0001125335693359375\n",
      "blocks.3.hook_resid_pre: torch.Size([1, 6, 768]), 0.0001125335693359375\n",
      "blocks.3.ln1.hook_scale: torch.Size([1, 6, 1]), 105.4130859375\n",
      "blocks.3.ln1.hook_normalized: torch.Size([1, 6, 768]), -2.002716064453125e-05\n",
      "blocks.3.attn.hook_q: torch.Size([1, 6, 12, 64]), -160.97767639160156\n",
      "blocks.3.attn.hook_k: torch.Size([1, 6, 12, 64]), 198.99143981933594\n",
      "blocks.3.attn.hook_v: torch.Size([1, 6, 12, 64]), 110.21175384521484\n",
      "blocks.3.attn.hook_attn_scores: torch.Size([1, 12, 6, 6]), -inf\n",
      "blocks.3.attn.hook_pattern: torch.Size([1, 12, 6, 6]), 71.99999237060547\n",
      "blocks.3.attn.hook_z: torch.Size([1, 6, 12, 64]), 35.43510437011719\n",
      "blocks.3.hook_attn_out: torch.Size([1, 6, 768]), 1.996755599975586e-06\n",
      "blocks.3.hook_resid_mid: torch.Size([1, 6, 768]), -0.000354766845703125\n",
      "blocks.3.ln2.hook_scale: torch.Size([1, 6, 1]), 105.7210693359375\n",
      "blocks.3.ln2.hook_normalized: torch.Size([1, 6, 768]), 5.7220458984375e-06\n",
      "blocks.3.mlp.hook_pre: torch.Size([1, 6, 3072]), -21218.89453125\n",
      "blocks.3.mlp.hook_post: torch.Size([1, 6, 3072]), -902.321044921875\n",
      "blocks.3.hook_mlp_out: torch.Size([1, 6, 768]), 3.62396240234375e-05\n",
      "blocks.3.hook_resid_post: torch.Size([1, 6, 768]), -3.0517578125e-05\n",
      "blocks.4.hook_resid_pre: torch.Size([1, 6, 768]), -3.0517578125e-05\n",
      "blocks.4.ln1.hook_scale: torch.Size([1, 6, 1]), 114.13817596435547\n",
      "blocks.4.ln1.hook_normalized: torch.Size([1, 6, 768]), -1.049041748046875e-05\n",
      "blocks.4.attn.hook_q: torch.Size([1, 6, 12, 64]), 233.16709899902344\n",
      "blocks.4.attn.hook_k: torch.Size([1, 6, 12, 64]), -563.159423828125\n",
      "blocks.4.attn.hook_v: torch.Size([1, 6, 12, 64]), -56.209136962890625\n",
      "blocks.4.attn.hook_attn_scores: torch.Size([1, 12, 6, 6]), -inf\n",
      "blocks.4.attn.hook_pattern: torch.Size([1, 12, 6, 6]), 72.0\n",
      "blocks.4.attn.hook_z: torch.Size([1, 6, 12, 64]), -18.238719940185547\n",
      "blocks.4.hook_attn_out: torch.Size([1, 6, 768]), -1.430511474609375e-06\n",
      "blocks.4.hook_resid_mid: torch.Size([1, 6, 768]), -0.0005950927734375\n",
      "blocks.4.ln2.hook_scale: torch.Size([1, 6, 1]), 114.39208984375\n",
      "blocks.4.ln2.hook_normalized: torch.Size([1, 6, 768]), 0.0\n",
      "blocks.4.mlp.hook_pre: torch.Size([1, 6, 3072]), -17108.49609375\n",
      "blocks.4.mlp.hook_post: torch.Size([1, 6, 3072]), -637.61767578125\n",
      "blocks.4.hook_mlp_out: torch.Size([1, 6, 768]), -7.152557373046875e-06\n",
      "blocks.4.hook_resid_post: torch.Size([1, 6, 768]), -0.0001850128173828125\n",
      "blocks.5.hook_resid_pre: torch.Size([1, 6, 768]), -0.0001850128173828125\n",
      "blocks.5.ln1.hook_scale: torch.Size([1, 6, 1]), 121.28793334960938\n",
      "blocks.5.ln1.hook_normalized: torch.Size([1, 6, 768]), -1.239776611328125e-05\n",
      "blocks.5.attn.hook_q: torch.Size([1, 6, 12, 64]), -133.75094604492188\n",
      "blocks.5.attn.hook_k: torch.Size([1, 6, 12, 64]), 13.626256942749023\n",
      "blocks.5.attn.hook_v: torch.Size([1, 6, 12, 64]), 56.841796875\n",
      "blocks.5.attn.hook_attn_scores: torch.Size([1, 12, 6, 6]), -inf\n",
      "blocks.5.attn.hook_pattern: torch.Size([1, 12, 6, 6]), 72.0\n",
      "blocks.5.attn.hook_z: torch.Size([1, 6, 12, 64]), 0.3015868663787842\n",
      "blocks.5.hook_attn_out: torch.Size([1, 6, 768]), -2.2292137145996094e-05\n",
      "blocks.5.hook_resid_mid: torch.Size([1, 6, 768]), -0.0004673004150390625\n",
      "blocks.5.ln2.hook_scale: torch.Size([1, 6, 1]), 121.12825012207031\n",
      "blocks.5.ln2.hook_normalized: torch.Size([1, 6, 768]), -1.4781951904296875e-05\n",
      "blocks.5.mlp.hook_pre: torch.Size([1, 6, 3072]), -18692.6640625\n",
      "blocks.5.mlp.hook_post: torch.Size([1, 6, 3072]), -584.5325317382812\n",
      "blocks.5.hook_mlp_out: torch.Size([1, 6, 768]), -3.981590270996094e-05\n",
      "blocks.5.hook_resid_post: torch.Size([1, 6, 768]), -0.00035572052001953125\n",
      "blocks.6.hook_resid_pre: torch.Size([1, 6, 768]), -0.00035572052001953125\n",
      "blocks.6.ln1.hook_scale: torch.Size([1, 6, 1]), 125.74056243896484\n",
      "blocks.6.ln1.hook_normalized: torch.Size([1, 6, 768]), -2.4318695068359375e-05\n",
      "blocks.6.attn.hook_q: torch.Size([1, 6, 12, 64]), 222.68536376953125\n",
      "blocks.6.attn.hook_k: torch.Size([1, 6, 12, 64]), -36.194820404052734\n",
      "blocks.6.attn.hook_v: torch.Size([1, 6, 12, 64]), 43.791038513183594\n",
      "blocks.6.attn.hook_attn_scores: torch.Size([1, 12, 6, 6]), -inf\n",
      "blocks.6.attn.hook_pattern: torch.Size([1, 12, 6, 6]), 72.0\n",
      "blocks.6.attn.hook_z: torch.Size([1, 6, 12, 64]), -3.9246652126312256\n",
      "blocks.6.hook_attn_out: torch.Size([1, 6, 768]), -2.86102294921875e-06\n",
      "blocks.6.hook_resid_mid: torch.Size([1, 6, 768]), -0.0005054473876953125\n",
      "blocks.6.ln2.hook_scale: torch.Size([1, 6, 1]), 126.00160217285156\n",
      "blocks.6.ln2.hook_normalized: torch.Size([1, 6, 768]), -1.33514404296875e-05\n",
      "blocks.6.mlp.hook_pre: torch.Size([1, 6, 3072]), -17332.509765625\n",
      "blocks.6.mlp.hook_post: torch.Size([1, 6, 3072]), -757.1888427734375\n",
      "blocks.6.hook_mlp_out: torch.Size([1, 6, 768]), 1.049041748046875e-05\n",
      "blocks.6.hook_resid_post: torch.Size([1, 6, 768]), -0.0003452301025390625\n",
      "blocks.7.hook_resid_pre: torch.Size([1, 6, 768]), -0.0003452301025390625\n",
      "blocks.7.ln1.hook_scale: torch.Size([1, 6, 1]), 129.4263916015625\n",
      "blocks.7.ln1.hook_normalized: torch.Size([1, 6, 768]), -1.621246337890625e-05\n",
      "blocks.7.attn.hook_q: torch.Size([1, 6, 12, 64]), 93.16007995605469\n",
      "blocks.7.attn.hook_k: torch.Size([1, 6, 12, 64]), 23.368032455444336\n",
      "blocks.7.attn.hook_v: torch.Size([1, 6, 12, 64]), 118.74575805664062\n",
      "blocks.7.attn.hook_attn_scores: torch.Size([1, 12, 6, 6]), -inf\n",
      "blocks.7.attn.hook_pattern: torch.Size([1, 12, 6, 6]), 71.99999237060547\n",
      "blocks.7.attn.hook_z: torch.Size([1, 6, 12, 64]), 8.053435325622559\n",
      "blocks.7.hook_attn_out: torch.Size([1, 6, 768]), 1.4066696166992188e-05\n",
      "blocks.7.hook_resid_mid: torch.Size([1, 6, 768]), -0.000827789306640625\n",
      "blocks.7.ln2.hook_scale: torch.Size([1, 6, 1]), 129.87339782714844\n",
      "blocks.7.ln2.hook_normalized: torch.Size([1, 6, 768]), -1.1444091796875e-05\n",
      "blocks.7.mlp.hook_pre: torch.Size([1, 6, 3072]), -17544.3515625\n",
      "blocks.7.mlp.hook_post: torch.Size([1, 6, 3072]), -995.9424438476562\n",
      "blocks.7.hook_mlp_out: torch.Size([1, 6, 768]), -3.5762786865234375e-05\n",
      "blocks.7.hook_resid_post: torch.Size([1, 6, 768]), -0.00038909912109375\n",
      "blocks.8.hook_resid_pre: torch.Size([1, 6, 768]), -0.00038909912109375\n",
      "blocks.8.ln1.hook_scale: torch.Size([1, 6, 1]), 133.589111328125\n",
      "blocks.8.ln1.hook_normalized: torch.Size([1, 6, 768]), -1.704692840576172e-05\n",
      "blocks.8.attn.hook_q: torch.Size([1, 6, 12, 64]), -295.5419921875\n",
      "blocks.8.attn.hook_k: torch.Size([1, 6, 12, 64]), -144.4767303466797\n",
      "blocks.8.attn.hook_v: torch.Size([1, 6, 12, 64]), -60.959930419921875\n",
      "blocks.8.attn.hook_attn_scores: torch.Size([1, 12, 6, 6]), -inf\n",
      "blocks.8.attn.hook_pattern: torch.Size([1, 12, 6, 6]), 72.0\n",
      "blocks.8.attn.hook_z: torch.Size([1, 6, 12, 64]), -7.231301784515381\n",
      "blocks.8.hook_attn_out: torch.Size([1, 6, 768]), 1.9073486328125e-05\n",
      "blocks.8.hook_resid_mid: torch.Size([1, 6, 768]), -0.0005860328674316406\n",
      "blocks.8.ln2.hook_scale: torch.Size([1, 6, 1]), 134.1224365234375\n",
      "blocks.8.ln2.hook_normalized: torch.Size([1, 6, 768]), -1.1682510375976562e-05\n",
      "blocks.8.mlp.hook_pre: torch.Size([1, 6, 3072]), -16853.578125\n",
      "blocks.8.mlp.hook_post: torch.Size([1, 6, 3072]), -1140.822021484375\n",
      "blocks.8.hook_mlp_out: torch.Size([1, 6, 768]), -3.337860107421875e-05\n",
      "blocks.8.hook_resid_post: torch.Size([1, 6, 768]), -0.0011129379272460938\n",
      "blocks.9.hook_resid_pre: torch.Size([1, 6, 768]), -0.0011129379272460938\n",
      "blocks.9.ln1.hook_scale: torch.Size([1, 6, 1]), 137.053955078125\n",
      "blocks.9.ln1.hook_normalized: torch.Size([1, 6, 768]), -1.0251998901367188e-05\n",
      "blocks.9.attn.hook_q: torch.Size([1, 6, 12, 64]), 108.94793701171875\n",
      "blocks.9.attn.hook_k: torch.Size([1, 6, 12, 64]), -225.6954345703125\n",
      "blocks.9.attn.hook_v: torch.Size([1, 6, 12, 64]), 194.3268280029297\n",
      "blocks.9.attn.hook_attn_scores: torch.Size([1, 12, 6, 6]), -inf\n",
      "blocks.9.attn.hook_pattern: torch.Size([1, 12, 6, 6]), 72.0\n",
      "blocks.9.attn.hook_z: torch.Size([1, 6, 12, 64]), 23.394542694091797\n",
      "blocks.9.hook_attn_out: torch.Size([1, 6, 768]), -2.1219253540039062e-05\n",
      "blocks.9.hook_resid_mid: torch.Size([1, 6, 768]), -0.000762939453125\n",
      "blocks.9.ln2.hook_scale: torch.Size([1, 6, 1]), 138.09642028808594\n",
      "blocks.9.ln2.hook_normalized: torch.Size([1, 6, 768]), -2.3126602172851562e-05\n",
      "blocks.9.mlp.hook_pre: torch.Size([1, 6, 3072]), -16994.6875\n",
      "blocks.9.mlp.hook_post: torch.Size([1, 6, 3072]), -1208.67919921875\n",
      "blocks.9.hook_mlp_out: torch.Size([1, 6, 768]), 2.9325485229492188e-05\n",
      "blocks.9.hook_resid_post: torch.Size([1, 6, 768]), -0.000400543212890625\n",
      "blocks.10.hook_resid_pre: torch.Size([1, 6, 768]), -0.000400543212890625\n",
      "blocks.10.ln1.hook_scale: torch.Size([1, 6, 1]), 141.68775939941406\n",
      "blocks.10.ln1.hook_normalized: torch.Size([1, 6, 768]), -1.7404556274414062e-05\n",
      "blocks.10.attn.hook_q: torch.Size([1, 6, 12, 64]), 255.53671264648438\n",
      "blocks.10.attn.hook_k: torch.Size([1, 6, 12, 64]), -22.283374786376953\n",
      "blocks.10.attn.hook_v: torch.Size([1, 6, 12, 64]), -255.09085083007812\n",
      "blocks.10.attn.hook_attn_scores: torch.Size([1, 12, 6, 6]), -inf\n",
      "blocks.10.attn.hook_pattern: torch.Size([1, 12, 6, 6]), 72.0\n",
      "blocks.10.attn.hook_z: torch.Size([1, 6, 12, 64]), -61.88945770263672\n",
      "blocks.10.hook_attn_out: torch.Size([1, 6, 768]), 1.7940998077392578e-05\n",
      "blocks.10.hook_resid_mid: torch.Size([1, 6, 768]), -0.0014667510986328125\n",
      "blocks.10.ln2.hook_scale: torch.Size([1, 6, 1]), 143.16793823242188\n",
      "blocks.10.ln2.hook_normalized: torch.Size([1, 6, 768]), -1.8358230590820312e-05\n",
      "blocks.10.mlp.hook_pre: torch.Size([1, 6, 3072]), -16762.435546875\n",
      "blocks.10.mlp.hook_post: torch.Size([1, 6, 3072]), -964.864990234375\n",
      "blocks.10.hook_mlp_out: torch.Size([1, 6, 768]), -3.4332275390625e-05\n",
      "blocks.10.hook_resid_post: torch.Size([1, 6, 768]), -0.0009174346923828125\n",
      "blocks.11.hook_resid_pre: torch.Size([1, 6, 768]), -0.0009174346923828125\n",
      "blocks.11.ln1.hook_scale: torch.Size([1, 6, 1]), 157.597900390625\n",
      "blocks.11.ln1.hook_normalized: torch.Size([1, 6, 768]), -1.6927719116210938e-05\n",
      "blocks.11.attn.hook_q: torch.Size([1, 6, 12, 64]), 30.758222579956055\n",
      "blocks.11.attn.hook_k: torch.Size([1, 6, 12, 64]), -68.20536041259766\n",
      "blocks.11.attn.hook_v: torch.Size([1, 6, 12, 64]), 26.279010772705078\n",
      "blocks.11.attn.hook_attn_scores: torch.Size([1, 12, 6, 6]), -inf\n",
      "blocks.11.attn.hook_pattern: torch.Size([1, 12, 6, 6]), 72.0\n",
      "blocks.11.attn.hook_z: torch.Size([1, 6, 12, 64]), -13.997775077819824\n",
      "blocks.11.hook_attn_out: torch.Size([1, 6, 768]), 0.0002593994140625\n",
      "blocks.11.hook_resid_mid: torch.Size([1, 6, 768]), -0.0007877349853515625\n",
      "blocks.11.ln2.hook_scale: torch.Size([1, 6, 1]), 73.29016876220703\n",
      "blocks.11.ln2.hook_normalized: torch.Size([1, 6, 768]), -4.76837158203125e-07\n",
      "blocks.11.mlp.hook_pre: torch.Size([1, 6, 3072]), -14702.970703125\n",
      "blocks.11.mlp.hook_post: torch.Size([1, 6, 3072]), -526.628662109375\n",
      "blocks.11.hook_mlp_out: torch.Size([1, 6, 768]), 2.09808349609375e-05\n",
      "blocks.11.hook_resid_post: torch.Size([1, 6, 768]), -0.000751495361328125\n",
      "ln_final.hook_scale: torch.Size([1, 6, 1]), 81.53472137451172\n",
      "ln_final.hook_normalized: torch.Size([1, 6, 768]), -2.384185791015625e-07\n"
     ]
    }
   ],
   "source": [
    "for key, value in cache.items():\n",
    "\tprint(f\"{key}: {value.shape}, {value.sum()}\")"
   ]
  },
  {
   "cell_type": "markdown",
   "metadata": {},
   "source": [
    "## Step 2: Analyze behavior\n",
    "\n",
    "In this example the model must:\n",
    "1. Recognize that the last token \"Alex\" is a repetition of a previous occurrence.\n",
    "2. Copy the last name from after the first \"Alex\" occurrence to the last token (as a prediction)."
   ]
  },
  {
   "cell_type": "code",
   "execution_count": 18,
   "metadata": {},
   "outputs": [
    {
     "name": "stdout",
     "output_type": "stream",
     "text": [
      "Tokenized prompt: ['<|endoftext|>', 'Her', ' name', ' was', ' Alex', ' Hart', '.', ' When', ' Alex']\n",
      "Tokenized answer: [' Hart']\n"
     ]
    },
    {
     "data": {
      "text/html": [
       "<pre style=\"white-space:pre;overflow-x:auto;line-height:normal;font-family:Menlo,'DejaVu Sans Mono',consolas,'Courier New',monospace\">Performance on answer token:\n",
       "<span style=\"font-weight: bold\">Rank: </span><span style=\"color: #008080; text-decoration-color: #008080; font-weight: bold\">1</span><span style=\"font-weight: bold\">        Logit: </span><span style=\"color: #008080; text-decoration-color: #008080; font-weight: bold\">15.53</span><span style=\"font-weight: bold\"> Prob: </span><span style=\"color: #008080; text-decoration-color: #008080; font-weight: bold\">13.43</span><span style=\"font-weight: bold\">% Token: | Hart|</span>\n",
       "</pre>\n"
      ],
      "text/plain": [
       "Performance on answer token:\n",
       "\u001b[1mRank: \u001b[0m\u001b[1;36m1\u001b[0m\u001b[1m        Logit: \u001b[0m\u001b[1;36m15.53\u001b[0m\u001b[1m Prob: \u001b[0m\u001b[1;36m13.43\u001b[0m\u001b[1m% Token: | Hart|\u001b[0m\n"
      ]
     },
     "metadata": {},
     "output_type": "display_data"
    },
    {
     "name": "stdout",
     "output_type": "stream",
     "text": [
      "Top 0th token. Logit: 16.23 Prob: 27.03% Token: | was|\n",
      "Top 1th token. Logit: 15.53 Prob: 13.43% Token: | Hart|\n",
      "Top 2th token. Logit: 14.35 Prob:  4.12% Token: | died|\n",
      "Top 3th token. Logit: 14.05 Prob:  3.03% Token: | came|\n",
      "Top 4th token. Logit: 14.02 Prob:  2.96% Token: |'s|\n",
      "Top 5th token. Logit: 13.96 Prob:  2.78% Token: | and|\n",
      "Top 6th token. Logit: 13.75 Prob:  2.26% Token: | arrived|\n",
      "Top 7th token. Logit: 13.74 Prob:  2.23% Token: | went|\n",
      "Top 8th token. Logit: 13.72 Prob:  2.19% Token: | started|\n",
      "Top 9th token. Logit: 13.48 Prob:  1.73% Token: | left|\n"
     ]
    },
    {
     "data": {
      "text/html": [
       "<pre style=\"white-space:pre;overflow-x:auto;line-height:normal;font-family:Menlo,'DejaVu Sans Mono',consolas,'Courier New',monospace\"><span style=\"font-weight: bold\">Ranks of the answer tokens:</span> <span style=\"font-weight: bold\">[(</span><span style=\"color: #008000; text-decoration-color: #008000\">' Hart'</span>, <span style=\"color: #008080; text-decoration-color: #008080; font-weight: bold\">1</span><span style=\"font-weight: bold\">)]</span>\n",
       "</pre>\n"
      ],
      "text/plain": [
       "\u001b[1mRanks of the answer tokens:\u001b[0m \u001b[1m[\u001b[0m\u001b[1m(\u001b[0m\u001b[32m' Hart'\u001b[0m, \u001b[1;36m1\u001b[0m\u001b[1m)\u001b[0m\u001b[1m]\u001b[0m\n"
      ]
     },
     "metadata": {},
     "output_type": "display_data"
    }
   ],
   "source": [
    "baseline_prompt = \"Her name was Alex Hart. When Alex\"\n",
    "baseline_continuation = \" Hart\"\n",
    "utils.test_prompt(baseline_prompt, baseline_continuation, model)"
   ]
  },
  {
   "cell_type": "markdown",
   "metadata": {},
   "source": [
    "## Method 1: Residual stream patching\n",
    "\n",
    "Based on the three pieces of information the model must use, we can generate variations (\"corruptions\") of the baseline (\"clean\") prompt:\n",
    "1. [Baseline] Her name was Alex Hart. When Alex\n",
    "2. Her name was Alex Carroll. When Alex\n",
    "3. Her name was Sarah Hart. When Alex\n",
    "4. Her name was Alex Hart. When Sarah"
   ]
  },
  {
   "cell_type": "code",
   "execution_count": 19,
   "metadata": {},
   "outputs": [],
   "source": [
    "corrupt_prompt_1 = \"Her name was Alex Carroll. When Alex\"\n",
    "corrupt_prompt_2 = \"Her name was Sarah Hart. When Alex\"\n",
    "corrupt_prompt_3 = \"Her name was Alex Hart. When Sarah\"\n",
    "corrupt_continuation = \" Carroll\""
   ]
  },
  {
   "cell_type": "markdown",
   "metadata": {},
   "source": [
    "### Get activations from corrupt prompt"
   ]
  },
  {
   "cell_type": "code",
   "execution_count": 9,
   "metadata": {},
   "outputs": [],
   "source": [
    "_, corrupt_cache_1 = model.run_with_cache(corrupt_prompt_1)\n",
    "_, corrupt_cache_2 = model.run_with_cache(corrupt_prompt_2)\n",
    "_, corrupt_cache_3 = model.run_with_cache(corrupt_prompt_3)"
   ]
  },
  {
   "cell_type": "markdown",
   "metadata": {},
   "source": [
    "### Patch model to use corrupt activations"
   ]
  },
  {
   "cell_type": "code",
   "execution_count": 10,
   "metadata": {},
   "outputs": [],
   "source": [
    "default_layer = \"blocks.6.hook_resid_post\"\n",
    "default_pos = 5 # index of last name in prompt\n",
    "\n",
    "def patch_residual_stream(activations, hook, cache=corrupt_cache_1, layer=default_layer, pos=default_pos):\n",
    "    activations[:, pos, :] = cache[layer][:, pos, :]\n",
    "    return activations\n",
    "\n",
    "model.add_hook(default_layer, patch_residual_stream)"
   ]
  },
  {
   "cell_type": "markdown",
   "metadata": {},
   "source": [
    "### See how the corrupt activations affect the output of the model\n",
    "\n",
    "In this case changing the residual stream activations replaces \"Hart\" with \"Carroll\" in the predictions."
   ]
  },
  {
   "cell_type": "code",
   "execution_count": 20,
   "metadata": {},
   "outputs": [
    {
     "name": "stdout",
     "output_type": "stream",
     "text": [
      "Tokenized prompt: ['<|endoftext|>', 'Her', ' name', ' was', ' Alex', ' Hart', '.', ' When', ' Alex']\n",
      "Tokenized answer: [' Hart']\n"
     ]
    },
    {
     "data": {
      "text/html": [
       "<pre style=\"white-space:pre;overflow-x:auto;line-height:normal;font-family:Menlo,'DejaVu Sans Mono',consolas,'Courier New',monospace\">Performance on answer token:\n",
       "<span style=\"font-weight: bold\">Rank: </span><span style=\"color: #008080; text-decoration-color: #008080; font-weight: bold\">1</span><span style=\"font-weight: bold\">        Logit: </span><span style=\"color: #008080; text-decoration-color: #008080; font-weight: bold\">15.53</span><span style=\"font-weight: bold\"> Prob: </span><span style=\"color: #008080; text-decoration-color: #008080; font-weight: bold\">13.43</span><span style=\"font-weight: bold\">% Token: | Hart|</span>\n",
       "</pre>\n"
      ],
      "text/plain": [
       "Performance on answer token:\n",
       "\u001b[1mRank: \u001b[0m\u001b[1;36m1\u001b[0m\u001b[1m        Logit: \u001b[0m\u001b[1;36m15.53\u001b[0m\u001b[1m Prob: \u001b[0m\u001b[1;36m13.43\u001b[0m\u001b[1m% Token: | Hart|\u001b[0m\n"
      ]
     },
     "metadata": {},
     "output_type": "display_data"
    },
    {
     "name": "stdout",
     "output_type": "stream",
     "text": [
      "Top 0th token. Logit: 16.23 Prob: 27.03% Token: | was|\n",
      "Top 1th token. Logit: 15.53 Prob: 13.43% Token: | Hart|\n",
      "Top 2th token. Logit: 14.35 Prob:  4.12% Token: | died|\n",
      "Top 3th token. Logit: 14.05 Prob:  3.03% Token: | came|\n",
      "Top 4th token. Logit: 14.02 Prob:  2.96% Token: |'s|\n",
      "Top 5th token. Logit: 13.96 Prob:  2.78% Token: | and|\n",
      "Top 6th token. Logit: 13.75 Prob:  2.26% Token: | arrived|\n",
      "Top 7th token. Logit: 13.74 Prob:  2.23% Token: | went|\n",
      "Top 8th token. Logit: 13.72 Prob:  2.19% Token: | started|\n",
      "Top 9th token. Logit: 13.48 Prob:  1.73% Token: | left|\n"
     ]
    },
    {
     "data": {
      "text/html": [
       "<pre style=\"white-space:pre;overflow-x:auto;line-height:normal;font-family:Menlo,'DejaVu Sans Mono',consolas,'Courier New',monospace\"><span style=\"font-weight: bold\">Ranks of the answer tokens:</span> <span style=\"font-weight: bold\">[(</span><span style=\"color: #008000; text-decoration-color: #008000\">' Hart'</span>, <span style=\"color: #008080; text-decoration-color: #008080; font-weight: bold\">1</span><span style=\"font-weight: bold\">)]</span>\n",
       "</pre>\n"
      ],
      "text/plain": [
       "\u001b[1mRanks of the answer tokens:\u001b[0m \u001b[1m[\u001b[0m\u001b[1m(\u001b[0m\u001b[32m' Hart'\u001b[0m, \u001b[1;36m1\u001b[0m\u001b[1m)\u001b[0m\u001b[1m]\u001b[0m\n"
      ]
     },
     "metadata": {},
     "output_type": "display_data"
    }
   ],
   "source": [
    "utils.test_prompt(baseline_prompt, baseline_continuation, model)"
   ]
  },
  {
   "cell_type": "markdown",
   "metadata": {},
   "source": [
    "### Reset the hooks"
   ]
  },
  {
   "cell_type": "code",
   "execution_count": 12,
   "metadata": {},
   "outputs": [],
   "source": [
    "model.reset_hooks()"
   ]
  },
  {
   "cell_type": "markdown",
   "metadata": {},
   "source": [
    "### Plotting the effects"
   ]
  },
  {
   "cell_type": "code",
   "execution_count": 21,
   "metadata": {},
   "outputs": [],
   "source": [
    "clean_tokens = model.to_str_tokens(baseline_prompt)\n",
    "layers = [\"blocks.0.hook_resid_pre\", *[f\"blocks.{i}.hook_resid_post\" for i in range(model.cfg.n_layers)]]\n",
    "n_layers = len(layers)\n",
    "n_pos = len(clean_tokens)\n",
    "clean_answer_index = model.tokenizer.encode(baseline_continuation)[0]"
   ]
  },
  {
   "cell_type": "code",
   "execution_count": 23,
   "metadata": {},
   "outputs": [],
   "source": [
    "def plot_logit_diff(answer: str, title: str, cache: ActivationCache) -> None:\n",
    "    corrupt_answer_index = model.tokenizer.encode(answer)[0]\n",
    "\n",
    "    patching_effect = torch.zeros(n_layers, n_pos)\n",
    "    for l, layer in enumerate(layers):\n",
    "        for pos in range(n_pos):\n",
    "            fwd_hooks = [\n",
    "                (\n",
    "                    layer,\n",
    "                    partial(\n",
    "                        patch_residual_stream, cache=cache, layer=layer, pos=pos\n",
    "                    ),\n",
    "                )\n",
    "            ]\n",
    "            prediction_logits = model.run_with_hooks(baseline_prompt, fwd_hooks=fwd_hooks)[\n",
    "                0, -1\n",
    "            ]\n",
    "            patching_effect[l, pos] = (\n",
    "                prediction_logits[clean_answer_index]\n",
    "                - prediction_logits[corrupt_answer_index]\n",
    "            )\n",
    "\n",
    "    token_labels = [f\"(pos {i}) {t}\" for i, t in enumerate(clean_tokens)]\n",
    "    imshow(\n",
    "        patching_effect,\n",
    "        xticks=token_labels,\n",
    "        yticks=layers,\n",
    "        xlabel=\"pos\",\n",
    "        ylabel=\"layer\",\n",
    "        zlabel=\"Logit difference\",\n",
    "        title=title,\n",
    "        width=800,\n",
    "        height=600,\n",
    "    )"
   ]
  },
  {
   "cell_type": "code",
   "execution_count": 24,
   "metadata": {},
   "outputs": [
    {
     "data": {
      "application/vnd.plotly.v1+json": {
       "config": {
        "plotlyServerURL": "https://plot.ly"
       },
       "data": [
        {
         "coloraxis": "coloraxis",
         "hovertemplate": "pos: %{x}<br>layer: %{y}<br>Logit difference: %{z}<extra></extra>",
         "name": "0",
         "type": "heatmap",
         "x": [
          "(pos 0) <|endoftext|>",
          "(pos 1) Her",
          "(pos 2)  name",
          "(pos 3)  was",
          "(pos 4)  Alex",
          "(pos 5)  Hart",
          "(pos 6) .",
          "(pos 7)  When",
          "(pos 8)  Alex"
         ],
         "xaxis": "x",
         "y": [
          "blocks.0.hook_resid_pre",
          "blocks.0.hook_resid_post",
          "blocks.1.hook_resid_post",
          "blocks.2.hook_resid_post",
          "blocks.3.hook_resid_post",
          "blocks.4.hook_resid_post",
          "blocks.5.hook_resid_post",
          "blocks.6.hook_resid_post",
          "blocks.7.hook_resid_post",
          "blocks.8.hook_resid_post",
          "blocks.9.hook_resid_post",
          "blocks.10.hook_resid_post",
          "blocks.11.hook_resid_post"
         ],
         "yaxis": "y",
         "z": [
          [
           12.48805046081543,
           12.48805046081543,
           12.48805046081543,
           12.48805046081543,
           12.48805046081543,
           -9.052541732788086,
           12.48805046081543,
           12.48805046081543,
           12.48805046081543
          ],
          [
           12.48805046081543,
           12.48805046081543,
           12.48805046081543,
           12.48805046081543,
           12.48805046081543,
           -8.879379272460938,
           12.458979606628418,
           12.504013061523438,
           12.500688552856445
          ],
          [
           12.48805046081543,
           12.48805046081543,
           12.48805046081543,
           12.48805046081543,
           12.48805046081543,
           -8.890621185302734,
           12.453947067260742,
           12.490778923034668,
           12.529237747192383
          ],
          [
           12.48805046081543,
           12.48805046081543,
           12.48805046081543,
           12.48805046081543,
           12.48805046081543,
           -8.870559692382812,
           12.422568321228027,
           12.479809761047363,
           12.549842834472656
          ],
          [
           12.48805046081543,
           12.48805046081543,
           12.48805046081543,
           12.48805046081543,
           12.48805046081543,
           -8.804315567016602,
           12.402992248535156,
           12.495213508605957,
           12.59164810180664
          ],
          [
           12.48805046081543,
           12.48805046081543,
           12.48805046081543,
           12.48805046081543,
           12.48805046081543,
           -8.860685348510742,
           12.26865005493164,
           12.492691993713379,
           12.568093299865723
          ],
          [
           12.48805046081543,
           12.48805046081543,
           12.48805046081543,
           12.48805046081543,
           12.48805046081543,
           -8.374825477600098,
           12.268754959106445,
           12.477859497070312,
           12.555450439453125
          ],
          [
           12.48805046081543,
           12.48805046081543,
           12.48805046081543,
           12.48805046081543,
           12.48805046081543,
           -7.625321388244629,
           12.289266586303711,
           12.448790550231934,
           12.108569145202637
          ],
          [
           12.48805046081543,
           12.48805046081543,
           12.48805046081543,
           12.48805046081543,
           12.48805046081543,
           -5.777523040771484,
           12.327502250671387,
           12.444019317626953,
           10.620500564575195
          ],
          [
           12.48805046081543,
           12.48805046081543,
           12.48805046081543,
           12.48805046081543,
           12.48805046081543,
           -5.50311279296875,
           12.44835090637207,
           12.36530590057373,
           10.053766250610352
          ],
          [
           12.48805046081543,
           12.48805046081543,
           12.48805046081543,
           12.48805046081543,
           12.48805046081543,
           -1.9144783020019531,
           12.342964172363281,
           12.181124687194824,
           5.291762351989746
          ],
          [
           12.48805046081543,
           12.48805046081543,
           12.48805046081543,
           12.48805046081543,
           12.48805046081543,
           7.424183368682861,
           12.027878761291504,
           11.770797729492188,
           -4.472842216491699
          ],
          [
           12.48805046081543,
           12.48805046081543,
           12.48805046081543,
           12.48805046081543,
           12.48805046081543,
           12.48805046081543,
           12.48805046081543,
           12.48805046081543,
           -9.052541732788086
          ]
         ]
        }
       ],
       "layout": {
        "coloraxis": {
         "cmid": 0,
         "colorbar": {
          "title": {
           "text": "Logit difference"
          }
         },
         "colorscale": [
          [
           0,
           "rgb(103,0,31)"
          ],
          [
           0.1,
           "rgb(178,24,43)"
          ],
          [
           0.2,
           "rgb(214,96,77)"
          ],
          [
           0.3,
           "rgb(244,165,130)"
          ],
          [
           0.4,
           "rgb(253,219,199)"
          ],
          [
           0.5,
           "rgb(247,247,247)"
          ],
          [
           0.6,
           "rgb(209,229,240)"
          ],
          [
           0.7,
           "rgb(146,197,222)"
          ],
          [
           0.8,
           "rgb(67,147,195)"
          ],
          [
           0.9,
           "rgb(33,102,172)"
          ],
          [
           1,
           "rgb(5,48,97)"
          ]
         ]
        },
        "height": 600,
        "template": {
         "data": {
          "bar": [
           {
            "error_x": {
             "color": "#2a3f5f"
            },
            "error_y": {
             "color": "#2a3f5f"
            },
            "marker": {
             "line": {
              "color": "#E5ECF6",
              "width": 0.5
             },
             "pattern": {
              "fillmode": "overlay",
              "size": 10,
              "solidity": 0.2
             }
            },
            "type": "bar"
           }
          ],
          "barpolar": [
           {
            "marker": {
             "line": {
              "color": "#E5ECF6",
              "width": 0.5
             },
             "pattern": {
              "fillmode": "overlay",
              "size": 10,
              "solidity": 0.2
             }
            },
            "type": "barpolar"
           }
          ],
          "carpet": [
           {
            "aaxis": {
             "endlinecolor": "#2a3f5f",
             "gridcolor": "white",
             "linecolor": "white",
             "minorgridcolor": "white",
             "startlinecolor": "#2a3f5f"
            },
            "baxis": {
             "endlinecolor": "#2a3f5f",
             "gridcolor": "white",
             "linecolor": "white",
             "minorgridcolor": "white",
             "startlinecolor": "#2a3f5f"
            },
            "type": "carpet"
           }
          ],
          "choropleth": [
           {
            "colorbar": {
             "outlinewidth": 0,
             "ticks": ""
            },
            "type": "choropleth"
           }
          ],
          "contour": [
           {
            "colorbar": {
             "outlinewidth": 0,
             "ticks": ""
            },
            "colorscale": [
             [
              0,
              "#0d0887"
             ],
             [
              0.1111111111111111,
              "#46039f"
             ],
             [
              0.2222222222222222,
              "#7201a8"
             ],
             [
              0.3333333333333333,
              "#9c179e"
             ],
             [
              0.4444444444444444,
              "#bd3786"
             ],
             [
              0.5555555555555556,
              "#d8576b"
             ],
             [
              0.6666666666666666,
              "#ed7953"
             ],
             [
              0.7777777777777778,
              "#fb9f3a"
             ],
             [
              0.8888888888888888,
              "#fdca26"
             ],
             [
              1,
              "#f0f921"
             ]
            ],
            "type": "contour"
           }
          ],
          "contourcarpet": [
           {
            "colorbar": {
             "outlinewidth": 0,
             "ticks": ""
            },
            "type": "contourcarpet"
           }
          ],
          "heatmap": [
           {
            "colorbar": {
             "outlinewidth": 0,
             "ticks": ""
            },
            "colorscale": [
             [
              0,
              "#0d0887"
             ],
             [
              0.1111111111111111,
              "#46039f"
             ],
             [
              0.2222222222222222,
              "#7201a8"
             ],
             [
              0.3333333333333333,
              "#9c179e"
             ],
             [
              0.4444444444444444,
              "#bd3786"
             ],
             [
              0.5555555555555556,
              "#d8576b"
             ],
             [
              0.6666666666666666,
              "#ed7953"
             ],
             [
              0.7777777777777778,
              "#fb9f3a"
             ],
             [
              0.8888888888888888,
              "#fdca26"
             ],
             [
              1,
              "#f0f921"
             ]
            ],
            "type": "heatmap"
           }
          ],
          "heatmapgl": [
           {
            "colorbar": {
             "outlinewidth": 0,
             "ticks": ""
            },
            "colorscale": [
             [
              0,
              "#0d0887"
             ],
             [
              0.1111111111111111,
              "#46039f"
             ],
             [
              0.2222222222222222,
              "#7201a8"
             ],
             [
              0.3333333333333333,
              "#9c179e"
             ],
             [
              0.4444444444444444,
              "#bd3786"
             ],
             [
              0.5555555555555556,
              "#d8576b"
             ],
             [
              0.6666666666666666,
              "#ed7953"
             ],
             [
              0.7777777777777778,
              "#fb9f3a"
             ],
             [
              0.8888888888888888,
              "#fdca26"
             ],
             [
              1,
              "#f0f921"
             ]
            ],
            "type": "heatmapgl"
           }
          ],
          "histogram": [
           {
            "marker": {
             "pattern": {
              "fillmode": "overlay",
              "size": 10,
              "solidity": 0.2
             }
            },
            "type": "histogram"
           }
          ],
          "histogram2d": [
           {
            "colorbar": {
             "outlinewidth": 0,
             "ticks": ""
            },
            "colorscale": [
             [
              0,
              "#0d0887"
             ],
             [
              0.1111111111111111,
              "#46039f"
             ],
             [
              0.2222222222222222,
              "#7201a8"
             ],
             [
              0.3333333333333333,
              "#9c179e"
             ],
             [
              0.4444444444444444,
              "#bd3786"
             ],
             [
              0.5555555555555556,
              "#d8576b"
             ],
             [
              0.6666666666666666,
              "#ed7953"
             ],
             [
              0.7777777777777778,
              "#fb9f3a"
             ],
             [
              0.8888888888888888,
              "#fdca26"
             ],
             [
              1,
              "#f0f921"
             ]
            ],
            "type": "histogram2d"
           }
          ],
          "histogram2dcontour": [
           {
            "colorbar": {
             "outlinewidth": 0,
             "ticks": ""
            },
            "colorscale": [
             [
              0,
              "#0d0887"
             ],
             [
              0.1111111111111111,
              "#46039f"
             ],
             [
              0.2222222222222222,
              "#7201a8"
             ],
             [
              0.3333333333333333,
              "#9c179e"
             ],
             [
              0.4444444444444444,
              "#bd3786"
             ],
             [
              0.5555555555555556,
              "#d8576b"
             ],
             [
              0.6666666666666666,
              "#ed7953"
             ],
             [
              0.7777777777777778,
              "#fb9f3a"
             ],
             [
              0.8888888888888888,
              "#fdca26"
             ],
             [
              1,
              "#f0f921"
             ]
            ],
            "type": "histogram2dcontour"
           }
          ],
          "mesh3d": [
           {
            "colorbar": {
             "outlinewidth": 0,
             "ticks": ""
            },
            "type": "mesh3d"
           }
          ],
          "parcoords": [
           {
            "line": {
             "colorbar": {
              "outlinewidth": 0,
              "ticks": ""
             }
            },
            "type": "parcoords"
           }
          ],
          "pie": [
           {
            "automargin": true,
            "type": "pie"
           }
          ],
          "scatter": [
           {
            "fillpattern": {
             "fillmode": "overlay",
             "size": 10,
             "solidity": 0.2
            },
            "type": "scatter"
           }
          ],
          "scatter3d": [
           {
            "line": {
             "colorbar": {
              "outlinewidth": 0,
              "ticks": ""
             }
            },
            "marker": {
             "colorbar": {
              "outlinewidth": 0,
              "ticks": ""
             }
            },
            "type": "scatter3d"
           }
          ],
          "scattercarpet": [
           {
            "marker": {
             "colorbar": {
              "outlinewidth": 0,
              "ticks": ""
             }
            },
            "type": "scattercarpet"
           }
          ],
          "scattergeo": [
           {
            "marker": {
             "colorbar": {
              "outlinewidth": 0,
              "ticks": ""
             }
            },
            "type": "scattergeo"
           }
          ],
          "scattergl": [
           {
            "marker": {
             "colorbar": {
              "outlinewidth": 0,
              "ticks": ""
             }
            },
            "type": "scattergl"
           }
          ],
          "scattermapbox": [
           {
            "marker": {
             "colorbar": {
              "outlinewidth": 0,
              "ticks": ""
             }
            },
            "type": "scattermapbox"
           }
          ],
          "scatterpolar": [
           {
            "marker": {
             "colorbar": {
              "outlinewidth": 0,
              "ticks": ""
             }
            },
            "type": "scatterpolar"
           }
          ],
          "scatterpolargl": [
           {
            "marker": {
             "colorbar": {
              "outlinewidth": 0,
              "ticks": ""
             }
            },
            "type": "scatterpolargl"
           }
          ],
          "scatterternary": [
           {
            "marker": {
             "colorbar": {
              "outlinewidth": 0,
              "ticks": ""
             }
            },
            "type": "scatterternary"
           }
          ],
          "surface": [
           {
            "colorbar": {
             "outlinewidth": 0,
             "ticks": ""
            },
            "colorscale": [
             [
              0,
              "#0d0887"
             ],
             [
              0.1111111111111111,
              "#46039f"
             ],
             [
              0.2222222222222222,
              "#7201a8"
             ],
             [
              0.3333333333333333,
              "#9c179e"
             ],
             [
              0.4444444444444444,
              "#bd3786"
             ],
             [
              0.5555555555555556,
              "#d8576b"
             ],
             [
              0.6666666666666666,
              "#ed7953"
             ],
             [
              0.7777777777777778,
              "#fb9f3a"
             ],
             [
              0.8888888888888888,
              "#fdca26"
             ],
             [
              1,
              "#f0f921"
             ]
            ],
            "type": "surface"
           }
          ],
          "table": [
           {
            "cells": {
             "fill": {
              "color": "#EBF0F8"
             },
             "line": {
              "color": "white"
             }
            },
            "header": {
             "fill": {
              "color": "#C8D4E3"
             },
             "line": {
              "color": "white"
             }
            },
            "type": "table"
           }
          ]
         },
         "layout": {
          "annotationdefaults": {
           "arrowcolor": "#2a3f5f",
           "arrowhead": 0,
           "arrowwidth": 1
          },
          "autotypenumbers": "strict",
          "coloraxis": {
           "colorbar": {
            "outlinewidth": 0,
            "ticks": ""
           }
          },
          "colorscale": {
           "diverging": [
            [
             0,
             "#8e0152"
            ],
            [
             0.1,
             "#c51b7d"
            ],
            [
             0.2,
             "#de77ae"
            ],
            [
             0.3,
             "#f1b6da"
            ],
            [
             0.4,
             "#fde0ef"
            ],
            [
             0.5,
             "#f7f7f7"
            ],
            [
             0.6,
             "#e6f5d0"
            ],
            [
             0.7,
             "#b8e186"
            ],
            [
             0.8,
             "#7fbc41"
            ],
            [
             0.9,
             "#4d9221"
            ],
            [
             1,
             "#276419"
            ]
           ],
           "sequential": [
            [
             0,
             "#0d0887"
            ],
            [
             0.1111111111111111,
             "#46039f"
            ],
            [
             0.2222222222222222,
             "#7201a8"
            ],
            [
             0.3333333333333333,
             "#9c179e"
            ],
            [
             0.4444444444444444,
             "#bd3786"
            ],
            [
             0.5555555555555556,
             "#d8576b"
            ],
            [
             0.6666666666666666,
             "#ed7953"
            ],
            [
             0.7777777777777778,
             "#fb9f3a"
            ],
            [
             0.8888888888888888,
             "#fdca26"
            ],
            [
             1,
             "#f0f921"
            ]
           ],
           "sequentialminus": [
            [
             0,
             "#0d0887"
            ],
            [
             0.1111111111111111,
             "#46039f"
            ],
            [
             0.2222222222222222,
             "#7201a8"
            ],
            [
             0.3333333333333333,
             "#9c179e"
            ],
            [
             0.4444444444444444,
             "#bd3786"
            ],
            [
             0.5555555555555556,
             "#d8576b"
            ],
            [
             0.6666666666666666,
             "#ed7953"
            ],
            [
             0.7777777777777778,
             "#fb9f3a"
            ],
            [
             0.8888888888888888,
             "#fdca26"
            ],
            [
             1,
             "#f0f921"
            ]
           ]
          },
          "colorway": [
           "#636efa",
           "#EF553B",
           "#00cc96",
           "#ab63fa",
           "#FFA15A",
           "#19d3f3",
           "#FF6692",
           "#B6E880",
           "#FF97FF",
           "#FECB52"
          ],
          "font": {
           "color": "#2a3f5f"
          },
          "geo": {
           "bgcolor": "white",
           "lakecolor": "white",
           "landcolor": "#E5ECF6",
           "showlakes": true,
           "showland": true,
           "subunitcolor": "white"
          },
          "hoverlabel": {
           "align": "left"
          },
          "hovermode": "closest",
          "mapbox": {
           "style": "light"
          },
          "paper_bgcolor": "white",
          "plot_bgcolor": "#E5ECF6",
          "polar": {
           "angularaxis": {
            "gridcolor": "white",
            "linecolor": "white",
            "ticks": ""
           },
           "bgcolor": "#E5ECF6",
           "radialaxis": {
            "gridcolor": "white",
            "linecolor": "white",
            "ticks": ""
           }
          },
          "scene": {
           "xaxis": {
            "backgroundcolor": "#E5ECF6",
            "gridcolor": "white",
            "gridwidth": 2,
            "linecolor": "white",
            "showbackground": true,
            "ticks": "",
            "zerolinecolor": "white"
           },
           "yaxis": {
            "backgroundcolor": "#E5ECF6",
            "gridcolor": "white",
            "gridwidth": 2,
            "linecolor": "white",
            "showbackground": true,
            "ticks": "",
            "zerolinecolor": "white"
           },
           "zaxis": {
            "backgroundcolor": "#E5ECF6",
            "gridcolor": "white",
            "gridwidth": 2,
            "linecolor": "white",
            "showbackground": true,
            "ticks": "",
            "zerolinecolor": "white"
           }
          },
          "shapedefaults": {
           "line": {
            "color": "#2a3f5f"
           }
          },
          "ternary": {
           "aaxis": {
            "gridcolor": "white",
            "linecolor": "white",
            "ticks": ""
           },
           "baxis": {
            "gridcolor": "white",
            "linecolor": "white",
            "ticks": ""
           },
           "bgcolor": "#E5ECF6",
           "caxis": {
            "gridcolor": "white",
            "linecolor": "white",
            "ticks": ""
           }
          },
          "title": {
           "x": 0.05
          },
          "xaxis": {
           "automargin": true,
           "gridcolor": "white",
           "linecolor": "white",
           "ticks": "",
           "title": {
            "standoff": 15
           },
           "zerolinecolor": "white",
           "zerolinewidth": 2
          },
          "yaxis": {
           "automargin": true,
           "gridcolor": "white",
           "linecolor": "white",
           "ticks": "",
           "title": {
            "standoff": 15
           },
           "zerolinecolor": "white",
           "zerolinewidth": 2
          }
         }
        },
        "title": {
         "text": "Patching with Alex/Carroll/Alex"
        },
        "width": 800,
        "xaxis": {
         "anchor": "y",
         "constrain": "domain",
         "domain": [
          0,
          1
         ],
         "scaleanchor": "y",
         "title": {
          "text": "pos"
         }
        },
        "yaxis": {
         "anchor": "x",
         "autorange": "reversed",
         "constrain": "domain",
         "domain": [
          0,
          1
         ],
         "title": {
          "text": "layer"
         }
        }
       }
      }
     },
     "metadata": {},
     "output_type": "display_data"
    }
   ],
   "source": [
    "plot_logit_diff(corrupt_continuation, \"Patching with Alex/Carroll/Alex\", corrupt_cache_1)"
   ]
  },
  {
   "cell_type": "code",
   "execution_count": 25,
   "metadata": {},
   "outputs": [
    {
     "data": {
      "application/vnd.plotly.v1+json": {
       "config": {
        "plotlyServerURL": "https://plot.ly"
       },
       "data": [
        {
         "coloraxis": "coloraxis",
         "hovertemplate": "pos: %{x}<br>layer: %{y}<br>Logit difference: %{z}<extra></extra>",
         "name": "0",
         "type": "heatmap",
         "x": [
          "(pos 0) <|endoftext|>",
          "(pos 1) Her",
          "(pos 2)  name",
          "(pos 3)  was",
          "(pos 4)  Alex",
          "(pos 5)  Hart",
          "(pos 6) .",
          "(pos 7)  When",
          "(pos 8)  Alex"
         ],
         "xaxis": "x",
         "y": [
          "blocks.0.hook_resid_pre",
          "blocks.0.hook_resid_post",
          "blocks.1.hook_resid_post",
          "blocks.2.hook_resid_post",
          "blocks.3.hook_resid_post",
          "blocks.4.hook_resid_post",
          "blocks.5.hook_resid_post",
          "blocks.6.hook_resid_post",
          "blocks.7.hook_resid_post",
          "blocks.8.hook_resid_post",
          "blocks.9.hook_resid_post",
          "blocks.10.hook_resid_post",
          "blocks.11.hook_resid_post"
         ],
         "yaxis": "y",
         "z": [
          [
           12.48805046081543,
           12.48805046081543,
           12.48805046081543,
           12.48805046081543,
           4.521357536315918,
           12.48805046081543,
           12.48805046081543,
           12.48805046081543,
           12.48805046081543
          ],
          [
           12.48805046081543,
           12.48805046081543,
           12.48805046081543,
           12.48805046081543,
           4.593458652496338,
           12.636988639831543,
           12.509870529174805,
           12.46086597442627,
           11.947211265563965
          ],
          [
           12.48805046081543,
           12.48805046081543,
           12.48805046081543,
           12.48805046081543,
           5.407713890075684,
           12.696203231811523,
           12.513117790222168,
           12.434651374816895,
           11.793758392333984
          ],
          [
           12.48805046081543,
           12.48805046081543,
           12.48805046081543,
           12.48805046081543,
           7.921381950378418,
           12.854947090148926,
           12.51409912109375,
           12.440133094787598,
           11.70052719116211
          ],
          [
           12.48805046081543,
           12.48805046081543,
           12.48805046081543,
           12.48805046081543,
           11.793068885803223,
           12.703356742858887,
           12.498697280883789,
           12.43686294555664,
           10.700628280639648
          ],
          [
           12.48805046081543,
           12.48805046081543,
           12.48805046081543,
           12.48805046081543,
           12.00536060333252,
           7.601766109466553,
           12.500144004821777,
           12.453017234802246,
           10.705219268798828
          ],
          [
           12.48805046081543,
           12.48805046081543,
           12.48805046081543,
           12.48805046081543,
           12.01540756225586,
           11.985553741455078,
           12.503469467163086,
           12.44961929321289,
           8.193487167358398
          ],
          [
           12.48805046081543,
           12.48805046081543,
           12.48805046081543,
           12.48805046081543,
           12.11826229095459,
           12.568638801574707,
           12.40652847290039,
           12.452614784240723,
           6.273007392883301
          ],
          [
           12.48805046081543,
           12.48805046081543,
           12.48805046081543,
           12.48805046081543,
           12.156951904296875,
           12.712347030639648,
           12.37869930267334,
           12.45288372039795,
           5.244758129119873
          ],
          [
           12.48805046081543,
           12.48805046081543,
           12.48805046081543,
           12.48805046081543,
           12.255221366882324,
           12.72189712524414,
           12.416167259216309,
           12.372516632080078,
           5.127716064453125
          ],
          [
           12.48805046081543,
           12.48805046081543,
           12.48805046081543,
           12.48805046081543,
           12.23880386352539,
           12.77954387664795,
           12.428685188293457,
           12.411835670471191,
           4.963998794555664
          ],
          [
           12.48805046081543,
           12.48805046081543,
           12.48805046081543,
           12.48805046081543,
           12.324849128723145,
           12.569511413574219,
           12.47303581237793,
           12.402952194213867,
           4.7400031089782715
          ],
          [
           12.48805046081543,
           12.48805046081543,
           12.48805046081543,
           12.48805046081543,
           12.48805046081543,
           12.48805046081543,
           12.48805046081543,
           12.48805046081543,
           4.521357536315918
          ]
         ]
        }
       ],
       "layout": {
        "coloraxis": {
         "cmid": 0,
         "colorbar": {
          "title": {
           "text": "Logit difference"
          }
         },
         "colorscale": [
          [
           0,
           "rgb(103,0,31)"
          ],
          [
           0.1,
           "rgb(178,24,43)"
          ],
          [
           0.2,
           "rgb(214,96,77)"
          ],
          [
           0.3,
           "rgb(244,165,130)"
          ],
          [
           0.4,
           "rgb(253,219,199)"
          ],
          [
           0.5,
           "rgb(247,247,247)"
          ],
          [
           0.6,
           "rgb(209,229,240)"
          ],
          [
           0.7,
           "rgb(146,197,222)"
          ],
          [
           0.8,
           "rgb(67,147,195)"
          ],
          [
           0.9,
           "rgb(33,102,172)"
          ],
          [
           1,
           "rgb(5,48,97)"
          ]
         ]
        },
        "height": 600,
        "template": {
         "data": {
          "bar": [
           {
            "error_x": {
             "color": "#2a3f5f"
            },
            "error_y": {
             "color": "#2a3f5f"
            },
            "marker": {
             "line": {
              "color": "#E5ECF6",
              "width": 0.5
             },
             "pattern": {
              "fillmode": "overlay",
              "size": 10,
              "solidity": 0.2
             }
            },
            "type": "bar"
           }
          ],
          "barpolar": [
           {
            "marker": {
             "line": {
              "color": "#E5ECF6",
              "width": 0.5
             },
             "pattern": {
              "fillmode": "overlay",
              "size": 10,
              "solidity": 0.2
             }
            },
            "type": "barpolar"
           }
          ],
          "carpet": [
           {
            "aaxis": {
             "endlinecolor": "#2a3f5f",
             "gridcolor": "white",
             "linecolor": "white",
             "minorgridcolor": "white",
             "startlinecolor": "#2a3f5f"
            },
            "baxis": {
             "endlinecolor": "#2a3f5f",
             "gridcolor": "white",
             "linecolor": "white",
             "minorgridcolor": "white",
             "startlinecolor": "#2a3f5f"
            },
            "type": "carpet"
           }
          ],
          "choropleth": [
           {
            "colorbar": {
             "outlinewidth": 0,
             "ticks": ""
            },
            "type": "choropleth"
           }
          ],
          "contour": [
           {
            "colorbar": {
             "outlinewidth": 0,
             "ticks": ""
            },
            "colorscale": [
             [
              0,
              "#0d0887"
             ],
             [
              0.1111111111111111,
              "#46039f"
             ],
             [
              0.2222222222222222,
              "#7201a8"
             ],
             [
              0.3333333333333333,
              "#9c179e"
             ],
             [
              0.4444444444444444,
              "#bd3786"
             ],
             [
              0.5555555555555556,
              "#d8576b"
             ],
             [
              0.6666666666666666,
              "#ed7953"
             ],
             [
              0.7777777777777778,
              "#fb9f3a"
             ],
             [
              0.8888888888888888,
              "#fdca26"
             ],
             [
              1,
              "#f0f921"
             ]
            ],
            "type": "contour"
           }
          ],
          "contourcarpet": [
           {
            "colorbar": {
             "outlinewidth": 0,
             "ticks": ""
            },
            "type": "contourcarpet"
           }
          ],
          "heatmap": [
           {
            "colorbar": {
             "outlinewidth": 0,
             "ticks": ""
            },
            "colorscale": [
             [
              0,
              "#0d0887"
             ],
             [
              0.1111111111111111,
              "#46039f"
             ],
             [
              0.2222222222222222,
              "#7201a8"
             ],
             [
              0.3333333333333333,
              "#9c179e"
             ],
             [
              0.4444444444444444,
              "#bd3786"
             ],
             [
              0.5555555555555556,
              "#d8576b"
             ],
             [
              0.6666666666666666,
              "#ed7953"
             ],
             [
              0.7777777777777778,
              "#fb9f3a"
             ],
             [
              0.8888888888888888,
              "#fdca26"
             ],
             [
              1,
              "#f0f921"
             ]
            ],
            "type": "heatmap"
           }
          ],
          "heatmapgl": [
           {
            "colorbar": {
             "outlinewidth": 0,
             "ticks": ""
            },
            "colorscale": [
             [
              0,
              "#0d0887"
             ],
             [
              0.1111111111111111,
              "#46039f"
             ],
             [
              0.2222222222222222,
              "#7201a8"
             ],
             [
              0.3333333333333333,
              "#9c179e"
             ],
             [
              0.4444444444444444,
              "#bd3786"
             ],
             [
              0.5555555555555556,
              "#d8576b"
             ],
             [
              0.6666666666666666,
              "#ed7953"
             ],
             [
              0.7777777777777778,
              "#fb9f3a"
             ],
             [
              0.8888888888888888,
              "#fdca26"
             ],
             [
              1,
              "#f0f921"
             ]
            ],
            "type": "heatmapgl"
           }
          ],
          "histogram": [
           {
            "marker": {
             "pattern": {
              "fillmode": "overlay",
              "size": 10,
              "solidity": 0.2
             }
            },
            "type": "histogram"
           }
          ],
          "histogram2d": [
           {
            "colorbar": {
             "outlinewidth": 0,
             "ticks": ""
            },
            "colorscale": [
             [
              0,
              "#0d0887"
             ],
             [
              0.1111111111111111,
              "#46039f"
             ],
             [
              0.2222222222222222,
              "#7201a8"
             ],
             [
              0.3333333333333333,
              "#9c179e"
             ],
             [
              0.4444444444444444,
              "#bd3786"
             ],
             [
              0.5555555555555556,
              "#d8576b"
             ],
             [
              0.6666666666666666,
              "#ed7953"
             ],
             [
              0.7777777777777778,
              "#fb9f3a"
             ],
             [
              0.8888888888888888,
              "#fdca26"
             ],
             [
              1,
              "#f0f921"
             ]
            ],
            "type": "histogram2d"
           }
          ],
          "histogram2dcontour": [
           {
            "colorbar": {
             "outlinewidth": 0,
             "ticks": ""
            },
            "colorscale": [
             [
              0,
              "#0d0887"
             ],
             [
              0.1111111111111111,
              "#46039f"
             ],
             [
              0.2222222222222222,
              "#7201a8"
             ],
             [
              0.3333333333333333,
              "#9c179e"
             ],
             [
              0.4444444444444444,
              "#bd3786"
             ],
             [
              0.5555555555555556,
              "#d8576b"
             ],
             [
              0.6666666666666666,
              "#ed7953"
             ],
             [
              0.7777777777777778,
              "#fb9f3a"
             ],
             [
              0.8888888888888888,
              "#fdca26"
             ],
             [
              1,
              "#f0f921"
             ]
            ],
            "type": "histogram2dcontour"
           }
          ],
          "mesh3d": [
           {
            "colorbar": {
             "outlinewidth": 0,
             "ticks": ""
            },
            "type": "mesh3d"
           }
          ],
          "parcoords": [
           {
            "line": {
             "colorbar": {
              "outlinewidth": 0,
              "ticks": ""
             }
            },
            "type": "parcoords"
           }
          ],
          "pie": [
           {
            "automargin": true,
            "type": "pie"
           }
          ],
          "scatter": [
           {
            "fillpattern": {
             "fillmode": "overlay",
             "size": 10,
             "solidity": 0.2
            },
            "type": "scatter"
           }
          ],
          "scatter3d": [
           {
            "line": {
             "colorbar": {
              "outlinewidth": 0,
              "ticks": ""
             }
            },
            "marker": {
             "colorbar": {
              "outlinewidth": 0,
              "ticks": ""
             }
            },
            "type": "scatter3d"
           }
          ],
          "scattercarpet": [
           {
            "marker": {
             "colorbar": {
              "outlinewidth": 0,
              "ticks": ""
             }
            },
            "type": "scattercarpet"
           }
          ],
          "scattergeo": [
           {
            "marker": {
             "colorbar": {
              "outlinewidth": 0,
              "ticks": ""
             }
            },
            "type": "scattergeo"
           }
          ],
          "scattergl": [
           {
            "marker": {
             "colorbar": {
              "outlinewidth": 0,
              "ticks": ""
             }
            },
            "type": "scattergl"
           }
          ],
          "scattermapbox": [
           {
            "marker": {
             "colorbar": {
              "outlinewidth": 0,
              "ticks": ""
             }
            },
            "type": "scattermapbox"
           }
          ],
          "scatterpolar": [
           {
            "marker": {
             "colorbar": {
              "outlinewidth": 0,
              "ticks": ""
             }
            },
            "type": "scatterpolar"
           }
          ],
          "scatterpolargl": [
           {
            "marker": {
             "colorbar": {
              "outlinewidth": 0,
              "ticks": ""
             }
            },
            "type": "scatterpolargl"
           }
          ],
          "scatterternary": [
           {
            "marker": {
             "colorbar": {
              "outlinewidth": 0,
              "ticks": ""
             }
            },
            "type": "scatterternary"
           }
          ],
          "surface": [
           {
            "colorbar": {
             "outlinewidth": 0,
             "ticks": ""
            },
            "colorscale": [
             [
              0,
              "#0d0887"
             ],
             [
              0.1111111111111111,
              "#46039f"
             ],
             [
              0.2222222222222222,
              "#7201a8"
             ],
             [
              0.3333333333333333,
              "#9c179e"
             ],
             [
              0.4444444444444444,
              "#bd3786"
             ],
             [
              0.5555555555555556,
              "#d8576b"
             ],
             [
              0.6666666666666666,
              "#ed7953"
             ],
             [
              0.7777777777777778,
              "#fb9f3a"
             ],
             [
              0.8888888888888888,
              "#fdca26"
             ],
             [
              1,
              "#f0f921"
             ]
            ],
            "type": "surface"
           }
          ],
          "table": [
           {
            "cells": {
             "fill": {
              "color": "#EBF0F8"
             },
             "line": {
              "color": "white"
             }
            },
            "header": {
             "fill": {
              "color": "#C8D4E3"
             },
             "line": {
              "color": "white"
             }
            },
            "type": "table"
           }
          ]
         },
         "layout": {
          "annotationdefaults": {
           "arrowcolor": "#2a3f5f",
           "arrowhead": 0,
           "arrowwidth": 1
          },
          "autotypenumbers": "strict",
          "coloraxis": {
           "colorbar": {
            "outlinewidth": 0,
            "ticks": ""
           }
          },
          "colorscale": {
           "diverging": [
            [
             0,
             "#8e0152"
            ],
            [
             0.1,
             "#c51b7d"
            ],
            [
             0.2,
             "#de77ae"
            ],
            [
             0.3,
             "#f1b6da"
            ],
            [
             0.4,
             "#fde0ef"
            ],
            [
             0.5,
             "#f7f7f7"
            ],
            [
             0.6,
             "#e6f5d0"
            ],
            [
             0.7,
             "#b8e186"
            ],
            [
             0.8,
             "#7fbc41"
            ],
            [
             0.9,
             "#4d9221"
            ],
            [
             1,
             "#276419"
            ]
           ],
           "sequential": [
            [
             0,
             "#0d0887"
            ],
            [
             0.1111111111111111,
             "#46039f"
            ],
            [
             0.2222222222222222,
             "#7201a8"
            ],
            [
             0.3333333333333333,
             "#9c179e"
            ],
            [
             0.4444444444444444,
             "#bd3786"
            ],
            [
             0.5555555555555556,
             "#d8576b"
            ],
            [
             0.6666666666666666,
             "#ed7953"
            ],
            [
             0.7777777777777778,
             "#fb9f3a"
            ],
            [
             0.8888888888888888,
             "#fdca26"
            ],
            [
             1,
             "#f0f921"
            ]
           ],
           "sequentialminus": [
            [
             0,
             "#0d0887"
            ],
            [
             0.1111111111111111,
             "#46039f"
            ],
            [
             0.2222222222222222,
             "#7201a8"
            ],
            [
             0.3333333333333333,
             "#9c179e"
            ],
            [
             0.4444444444444444,
             "#bd3786"
            ],
            [
             0.5555555555555556,
             "#d8576b"
            ],
            [
             0.6666666666666666,
             "#ed7953"
            ],
            [
             0.7777777777777778,
             "#fb9f3a"
            ],
            [
             0.8888888888888888,
             "#fdca26"
            ],
            [
             1,
             "#f0f921"
            ]
           ]
          },
          "colorway": [
           "#636efa",
           "#EF553B",
           "#00cc96",
           "#ab63fa",
           "#FFA15A",
           "#19d3f3",
           "#FF6692",
           "#B6E880",
           "#FF97FF",
           "#FECB52"
          ],
          "font": {
           "color": "#2a3f5f"
          },
          "geo": {
           "bgcolor": "white",
           "lakecolor": "white",
           "landcolor": "#E5ECF6",
           "showlakes": true,
           "showland": true,
           "subunitcolor": "white"
          },
          "hoverlabel": {
           "align": "left"
          },
          "hovermode": "closest",
          "mapbox": {
           "style": "light"
          },
          "paper_bgcolor": "white",
          "plot_bgcolor": "#E5ECF6",
          "polar": {
           "angularaxis": {
            "gridcolor": "white",
            "linecolor": "white",
            "ticks": ""
           },
           "bgcolor": "#E5ECF6",
           "radialaxis": {
            "gridcolor": "white",
            "linecolor": "white",
            "ticks": ""
           }
          },
          "scene": {
           "xaxis": {
            "backgroundcolor": "#E5ECF6",
            "gridcolor": "white",
            "gridwidth": 2,
            "linecolor": "white",
            "showbackground": true,
            "ticks": "",
            "zerolinecolor": "white"
           },
           "yaxis": {
            "backgroundcolor": "#E5ECF6",
            "gridcolor": "white",
            "gridwidth": 2,
            "linecolor": "white",
            "showbackground": true,
            "ticks": "",
            "zerolinecolor": "white"
           },
           "zaxis": {
            "backgroundcolor": "#E5ECF6",
            "gridcolor": "white",
            "gridwidth": 2,
            "linecolor": "white",
            "showbackground": true,
            "ticks": "",
            "zerolinecolor": "white"
           }
          },
          "shapedefaults": {
           "line": {
            "color": "#2a3f5f"
           }
          },
          "ternary": {
           "aaxis": {
            "gridcolor": "white",
            "linecolor": "white",
            "ticks": ""
           },
           "baxis": {
            "gridcolor": "white",
            "linecolor": "white",
            "ticks": ""
           },
           "bgcolor": "#E5ECF6",
           "caxis": {
            "gridcolor": "white",
            "linecolor": "white",
            "ticks": ""
           }
          },
          "title": {
           "x": 0.05
          },
          "xaxis": {
           "automargin": true,
           "gridcolor": "white",
           "linecolor": "white",
           "ticks": "",
           "title": {
            "standoff": 15
           },
           "zerolinecolor": "white",
           "zerolinewidth": 2
          },
          "yaxis": {
           "automargin": true,
           "gridcolor": "white",
           "linecolor": "white",
           "ticks": "",
           "title": {
            "standoff": 15
           },
           "zerolinecolor": "white",
           "zerolinewidth": 2
          }
         }
        },
        "title": {
         "text": "Patching with Sarah/Hart/Alex"
        },
        "width": 800,
        "xaxis": {
         "anchor": "y",
         "constrain": "domain",
         "domain": [
          0,
          1
         ],
         "scaleanchor": "y",
         "title": {
          "text": "pos"
         }
        },
        "yaxis": {
         "anchor": "x",
         "autorange": "reversed",
         "constrain": "domain",
         "domain": [
          0,
          1
         ],
         "title": {
          "text": "layer"
         }
        }
       }
      }
     },
     "metadata": {},
     "output_type": "display_data"
    }
   ],
   "source": [
    "plot_logit_diff(corrupt_continuation, \"Patching with Sarah/Hart/Alex\", corrupt_cache_2)"
   ]
  },
  {
   "cell_type": "code",
   "execution_count": 27,
   "metadata": {},
   "outputs": [
    {
     "data": {
      "application/vnd.plotly.v1+json": {
       "config": {
        "plotlyServerURL": "https://plot.ly"
       },
       "data": [
        {
         "coloraxis": "coloraxis",
         "hovertemplate": "pos: %{x}<br>layer: %{y}<br>Logit difference: %{z}<extra></extra>",
         "name": "0",
         "type": "heatmap",
         "x": [
          "(pos 0) <|endoftext|>",
          "(pos 1) Her",
          "(pos 2)  name",
          "(pos 3)  was",
          "(pos 4)  Alex",
          "(pos 5)  Hart",
          "(pos 6) .",
          "(pos 7)  When",
          "(pos 8)  Alex"
         ],
         "xaxis": "x",
         "y": [
          "blocks.0.hook_resid_pre",
          "blocks.0.hook_resid_post",
          "blocks.1.hook_resid_post",
          "blocks.2.hook_resid_post",
          "blocks.3.hook_resid_post",
          "blocks.4.hook_resid_post",
          "blocks.5.hook_resid_post",
          "blocks.6.hook_resid_post",
          "blocks.7.hook_resid_post",
          "blocks.8.hook_resid_post",
          "blocks.9.hook_resid_post",
          "blocks.10.hook_resid_post",
          "blocks.11.hook_resid_post"
         ],
         "yaxis": "y",
         "z": [
          [
           12.48805046081543,
           12.48805046081543,
           12.48805046081543,
           12.48805046081543,
           12.48805046081543,
           12.48805046081543,
           12.48805046081543,
           12.48805046081543,
           5.745375156402588
          ],
          [
           12.48805046081543,
           12.48805046081543,
           12.48805046081543,
           12.48805046081543,
           12.48805046081543,
           12.48805046081543,
           12.48805046081543,
           12.48805046081543,
           5.745375156402588
          ],
          [
           12.48805046081543,
           12.48805046081543,
           12.48805046081543,
           12.48805046081543,
           12.48805046081543,
           12.48805046081543,
           12.48805046081543,
           12.48805046081543,
           5.745375156402588
          ],
          [
           12.48805046081543,
           12.48805046081543,
           12.48805046081543,
           12.48805046081543,
           12.48805046081543,
           12.48805046081543,
           12.48805046081543,
           12.48805046081543,
           5.745375156402588
          ],
          [
           12.48805046081543,
           12.48805046081543,
           12.48805046081543,
           12.48805046081543,
           12.48805046081543,
           12.48805046081543,
           12.48805046081543,
           12.48805046081543,
           5.745375156402588
          ],
          [
           12.48805046081543,
           12.48805046081543,
           12.48805046081543,
           12.48805046081543,
           12.48805046081543,
           12.48805046081543,
           12.48805046081543,
           12.48805046081543,
           5.745375156402588
          ],
          [
           12.48805046081543,
           12.48805046081543,
           12.48805046081543,
           12.48805046081543,
           12.48805046081543,
           12.48805046081543,
           12.48805046081543,
           12.48805046081543,
           5.745375156402588
          ],
          [
           12.48805046081543,
           12.48805046081543,
           12.48805046081543,
           12.48805046081543,
           12.48805046081543,
           12.48805046081543,
           12.48805046081543,
           12.48805046081543,
           5.745375156402588
          ],
          [
           12.48805046081543,
           12.48805046081543,
           12.48805046081543,
           12.48805046081543,
           12.48805046081543,
           12.48805046081543,
           12.48805046081543,
           12.48805046081543,
           5.745375156402588
          ],
          [
           12.48805046081543,
           12.48805046081543,
           12.48805046081543,
           12.48805046081543,
           12.48805046081543,
           12.48805046081543,
           12.48805046081543,
           12.48805046081543,
           5.745375156402588
          ],
          [
           12.48805046081543,
           12.48805046081543,
           12.48805046081543,
           12.48805046081543,
           12.48805046081543,
           12.48805046081543,
           12.48805046081543,
           12.48805046081543,
           5.745375156402588
          ],
          [
           12.48805046081543,
           12.48805046081543,
           12.48805046081543,
           12.48805046081543,
           12.48805046081543,
           12.48805046081543,
           12.48805046081543,
           12.48805046081543,
           5.745375156402588
          ],
          [
           12.48805046081543,
           12.48805046081543,
           12.48805046081543,
           12.48805046081543,
           12.48805046081543,
           12.48805046081543,
           12.48805046081543,
           12.48805046081543,
           5.745375156402588
          ]
         ]
        }
       ],
       "layout": {
        "coloraxis": {
         "cmid": 0,
         "colorbar": {
          "title": {
           "text": "Logit difference"
          }
         },
         "colorscale": [
          [
           0,
           "rgb(103,0,31)"
          ],
          [
           0.1,
           "rgb(178,24,43)"
          ],
          [
           0.2,
           "rgb(214,96,77)"
          ],
          [
           0.3,
           "rgb(244,165,130)"
          ],
          [
           0.4,
           "rgb(253,219,199)"
          ],
          [
           0.5,
           "rgb(247,247,247)"
          ],
          [
           0.6,
           "rgb(209,229,240)"
          ],
          [
           0.7,
           "rgb(146,197,222)"
          ],
          [
           0.8,
           "rgb(67,147,195)"
          ],
          [
           0.9,
           "rgb(33,102,172)"
          ],
          [
           1,
           "rgb(5,48,97)"
          ]
         ]
        },
        "height": 600,
        "template": {
         "data": {
          "bar": [
           {
            "error_x": {
             "color": "#2a3f5f"
            },
            "error_y": {
             "color": "#2a3f5f"
            },
            "marker": {
             "line": {
              "color": "#E5ECF6",
              "width": 0.5
             },
             "pattern": {
              "fillmode": "overlay",
              "size": 10,
              "solidity": 0.2
             }
            },
            "type": "bar"
           }
          ],
          "barpolar": [
           {
            "marker": {
             "line": {
              "color": "#E5ECF6",
              "width": 0.5
             },
             "pattern": {
              "fillmode": "overlay",
              "size": 10,
              "solidity": 0.2
             }
            },
            "type": "barpolar"
           }
          ],
          "carpet": [
           {
            "aaxis": {
             "endlinecolor": "#2a3f5f",
             "gridcolor": "white",
             "linecolor": "white",
             "minorgridcolor": "white",
             "startlinecolor": "#2a3f5f"
            },
            "baxis": {
             "endlinecolor": "#2a3f5f",
             "gridcolor": "white",
             "linecolor": "white",
             "minorgridcolor": "white",
             "startlinecolor": "#2a3f5f"
            },
            "type": "carpet"
           }
          ],
          "choropleth": [
           {
            "colorbar": {
             "outlinewidth": 0,
             "ticks": ""
            },
            "type": "choropleth"
           }
          ],
          "contour": [
           {
            "colorbar": {
             "outlinewidth": 0,
             "ticks": ""
            },
            "colorscale": [
             [
              0,
              "#0d0887"
             ],
             [
              0.1111111111111111,
              "#46039f"
             ],
             [
              0.2222222222222222,
              "#7201a8"
             ],
             [
              0.3333333333333333,
              "#9c179e"
             ],
             [
              0.4444444444444444,
              "#bd3786"
             ],
             [
              0.5555555555555556,
              "#d8576b"
             ],
             [
              0.6666666666666666,
              "#ed7953"
             ],
             [
              0.7777777777777778,
              "#fb9f3a"
             ],
             [
              0.8888888888888888,
              "#fdca26"
             ],
             [
              1,
              "#f0f921"
             ]
            ],
            "type": "contour"
           }
          ],
          "contourcarpet": [
           {
            "colorbar": {
             "outlinewidth": 0,
             "ticks": ""
            },
            "type": "contourcarpet"
           }
          ],
          "heatmap": [
           {
            "colorbar": {
             "outlinewidth": 0,
             "ticks": ""
            },
            "colorscale": [
             [
              0,
              "#0d0887"
             ],
             [
              0.1111111111111111,
              "#46039f"
             ],
             [
              0.2222222222222222,
              "#7201a8"
             ],
             [
              0.3333333333333333,
              "#9c179e"
             ],
             [
              0.4444444444444444,
              "#bd3786"
             ],
             [
              0.5555555555555556,
              "#d8576b"
             ],
             [
              0.6666666666666666,
              "#ed7953"
             ],
             [
              0.7777777777777778,
              "#fb9f3a"
             ],
             [
              0.8888888888888888,
              "#fdca26"
             ],
             [
              1,
              "#f0f921"
             ]
            ],
            "type": "heatmap"
           }
          ],
          "heatmapgl": [
           {
            "colorbar": {
             "outlinewidth": 0,
             "ticks": ""
            },
            "colorscale": [
             [
              0,
              "#0d0887"
             ],
             [
              0.1111111111111111,
              "#46039f"
             ],
             [
              0.2222222222222222,
              "#7201a8"
             ],
             [
              0.3333333333333333,
              "#9c179e"
             ],
             [
              0.4444444444444444,
              "#bd3786"
             ],
             [
              0.5555555555555556,
              "#d8576b"
             ],
             [
              0.6666666666666666,
              "#ed7953"
             ],
             [
              0.7777777777777778,
              "#fb9f3a"
             ],
             [
              0.8888888888888888,
              "#fdca26"
             ],
             [
              1,
              "#f0f921"
             ]
            ],
            "type": "heatmapgl"
           }
          ],
          "histogram": [
           {
            "marker": {
             "pattern": {
              "fillmode": "overlay",
              "size": 10,
              "solidity": 0.2
             }
            },
            "type": "histogram"
           }
          ],
          "histogram2d": [
           {
            "colorbar": {
             "outlinewidth": 0,
             "ticks": ""
            },
            "colorscale": [
             [
              0,
              "#0d0887"
             ],
             [
              0.1111111111111111,
              "#46039f"
             ],
             [
              0.2222222222222222,
              "#7201a8"
             ],
             [
              0.3333333333333333,
              "#9c179e"
             ],
             [
              0.4444444444444444,
              "#bd3786"
             ],
             [
              0.5555555555555556,
              "#d8576b"
             ],
             [
              0.6666666666666666,
              "#ed7953"
             ],
             [
              0.7777777777777778,
              "#fb9f3a"
             ],
             [
              0.8888888888888888,
              "#fdca26"
             ],
             [
              1,
              "#f0f921"
             ]
            ],
            "type": "histogram2d"
           }
          ],
          "histogram2dcontour": [
           {
            "colorbar": {
             "outlinewidth": 0,
             "ticks": ""
            },
            "colorscale": [
             [
              0,
              "#0d0887"
             ],
             [
              0.1111111111111111,
              "#46039f"
             ],
             [
              0.2222222222222222,
              "#7201a8"
             ],
             [
              0.3333333333333333,
              "#9c179e"
             ],
             [
              0.4444444444444444,
              "#bd3786"
             ],
             [
              0.5555555555555556,
              "#d8576b"
             ],
             [
              0.6666666666666666,
              "#ed7953"
             ],
             [
              0.7777777777777778,
              "#fb9f3a"
             ],
             [
              0.8888888888888888,
              "#fdca26"
             ],
             [
              1,
              "#f0f921"
             ]
            ],
            "type": "histogram2dcontour"
           }
          ],
          "mesh3d": [
           {
            "colorbar": {
             "outlinewidth": 0,
             "ticks": ""
            },
            "type": "mesh3d"
           }
          ],
          "parcoords": [
           {
            "line": {
             "colorbar": {
              "outlinewidth": 0,
              "ticks": ""
             }
            },
            "type": "parcoords"
           }
          ],
          "pie": [
           {
            "automargin": true,
            "type": "pie"
           }
          ],
          "scatter": [
           {
            "fillpattern": {
             "fillmode": "overlay",
             "size": 10,
             "solidity": 0.2
            },
            "type": "scatter"
           }
          ],
          "scatter3d": [
           {
            "line": {
             "colorbar": {
              "outlinewidth": 0,
              "ticks": ""
             }
            },
            "marker": {
             "colorbar": {
              "outlinewidth": 0,
              "ticks": ""
             }
            },
            "type": "scatter3d"
           }
          ],
          "scattercarpet": [
           {
            "marker": {
             "colorbar": {
              "outlinewidth": 0,
              "ticks": ""
             }
            },
            "type": "scattercarpet"
           }
          ],
          "scattergeo": [
           {
            "marker": {
             "colorbar": {
              "outlinewidth": 0,
              "ticks": ""
             }
            },
            "type": "scattergeo"
           }
          ],
          "scattergl": [
           {
            "marker": {
             "colorbar": {
              "outlinewidth": 0,
              "ticks": ""
             }
            },
            "type": "scattergl"
           }
          ],
          "scattermapbox": [
           {
            "marker": {
             "colorbar": {
              "outlinewidth": 0,
              "ticks": ""
             }
            },
            "type": "scattermapbox"
           }
          ],
          "scatterpolar": [
           {
            "marker": {
             "colorbar": {
              "outlinewidth": 0,
              "ticks": ""
             }
            },
            "type": "scatterpolar"
           }
          ],
          "scatterpolargl": [
           {
            "marker": {
             "colorbar": {
              "outlinewidth": 0,
              "ticks": ""
             }
            },
            "type": "scatterpolargl"
           }
          ],
          "scatterternary": [
           {
            "marker": {
             "colorbar": {
              "outlinewidth": 0,
              "ticks": ""
             }
            },
            "type": "scatterternary"
           }
          ],
          "surface": [
           {
            "colorbar": {
             "outlinewidth": 0,
             "ticks": ""
            },
            "colorscale": [
             [
              0,
              "#0d0887"
             ],
             [
              0.1111111111111111,
              "#46039f"
             ],
             [
              0.2222222222222222,
              "#7201a8"
             ],
             [
              0.3333333333333333,
              "#9c179e"
             ],
             [
              0.4444444444444444,
              "#bd3786"
             ],
             [
              0.5555555555555556,
              "#d8576b"
             ],
             [
              0.6666666666666666,
              "#ed7953"
             ],
             [
              0.7777777777777778,
              "#fb9f3a"
             ],
             [
              0.8888888888888888,
              "#fdca26"
             ],
             [
              1,
              "#f0f921"
             ]
            ],
            "type": "surface"
           }
          ],
          "table": [
           {
            "cells": {
             "fill": {
              "color": "#EBF0F8"
             },
             "line": {
              "color": "white"
             }
            },
            "header": {
             "fill": {
              "color": "#C8D4E3"
             },
             "line": {
              "color": "white"
             }
            },
            "type": "table"
           }
          ]
         },
         "layout": {
          "annotationdefaults": {
           "arrowcolor": "#2a3f5f",
           "arrowhead": 0,
           "arrowwidth": 1
          },
          "autotypenumbers": "strict",
          "coloraxis": {
           "colorbar": {
            "outlinewidth": 0,
            "ticks": ""
           }
          },
          "colorscale": {
           "diverging": [
            [
             0,
             "#8e0152"
            ],
            [
             0.1,
             "#c51b7d"
            ],
            [
             0.2,
             "#de77ae"
            ],
            [
             0.3,
             "#f1b6da"
            ],
            [
             0.4,
             "#fde0ef"
            ],
            [
             0.5,
             "#f7f7f7"
            ],
            [
             0.6,
             "#e6f5d0"
            ],
            [
             0.7,
             "#b8e186"
            ],
            [
             0.8,
             "#7fbc41"
            ],
            [
             0.9,
             "#4d9221"
            ],
            [
             1,
             "#276419"
            ]
           ],
           "sequential": [
            [
             0,
             "#0d0887"
            ],
            [
             0.1111111111111111,
             "#46039f"
            ],
            [
             0.2222222222222222,
             "#7201a8"
            ],
            [
             0.3333333333333333,
             "#9c179e"
            ],
            [
             0.4444444444444444,
             "#bd3786"
            ],
            [
             0.5555555555555556,
             "#d8576b"
            ],
            [
             0.6666666666666666,
             "#ed7953"
            ],
            [
             0.7777777777777778,
             "#fb9f3a"
            ],
            [
             0.8888888888888888,
             "#fdca26"
            ],
            [
             1,
             "#f0f921"
            ]
           ],
           "sequentialminus": [
            [
             0,
             "#0d0887"
            ],
            [
             0.1111111111111111,
             "#46039f"
            ],
            [
             0.2222222222222222,
             "#7201a8"
            ],
            [
             0.3333333333333333,
             "#9c179e"
            ],
            [
             0.4444444444444444,
             "#bd3786"
            ],
            [
             0.5555555555555556,
             "#d8576b"
            ],
            [
             0.6666666666666666,
             "#ed7953"
            ],
            [
             0.7777777777777778,
             "#fb9f3a"
            ],
            [
             0.8888888888888888,
             "#fdca26"
            ],
            [
             1,
             "#f0f921"
            ]
           ]
          },
          "colorway": [
           "#636efa",
           "#EF553B",
           "#00cc96",
           "#ab63fa",
           "#FFA15A",
           "#19d3f3",
           "#FF6692",
           "#B6E880",
           "#FF97FF",
           "#FECB52"
          ],
          "font": {
           "color": "#2a3f5f"
          },
          "geo": {
           "bgcolor": "white",
           "lakecolor": "white",
           "landcolor": "#E5ECF6",
           "showlakes": true,
           "showland": true,
           "subunitcolor": "white"
          },
          "hoverlabel": {
           "align": "left"
          },
          "hovermode": "closest",
          "mapbox": {
           "style": "light"
          },
          "paper_bgcolor": "white",
          "plot_bgcolor": "#E5ECF6",
          "polar": {
           "angularaxis": {
            "gridcolor": "white",
            "linecolor": "white",
            "ticks": ""
           },
           "bgcolor": "#E5ECF6",
           "radialaxis": {
            "gridcolor": "white",
            "linecolor": "white",
            "ticks": ""
           }
          },
          "scene": {
           "xaxis": {
            "backgroundcolor": "#E5ECF6",
            "gridcolor": "white",
            "gridwidth": 2,
            "linecolor": "white",
            "showbackground": true,
            "ticks": "",
            "zerolinecolor": "white"
           },
           "yaxis": {
            "backgroundcolor": "#E5ECF6",
            "gridcolor": "white",
            "gridwidth": 2,
            "linecolor": "white",
            "showbackground": true,
            "ticks": "",
            "zerolinecolor": "white"
           },
           "zaxis": {
            "backgroundcolor": "#E5ECF6",
            "gridcolor": "white",
            "gridwidth": 2,
            "linecolor": "white",
            "showbackground": true,
            "ticks": "",
            "zerolinecolor": "white"
           }
          },
          "shapedefaults": {
           "line": {
            "color": "#2a3f5f"
           }
          },
          "ternary": {
           "aaxis": {
            "gridcolor": "white",
            "linecolor": "white",
            "ticks": ""
           },
           "baxis": {
            "gridcolor": "white",
            "linecolor": "white",
            "ticks": ""
           },
           "bgcolor": "#E5ECF6",
           "caxis": {
            "gridcolor": "white",
            "linecolor": "white",
            "ticks": ""
           }
          },
          "title": {
           "x": 0.05
          },
          "xaxis": {
           "automargin": true,
           "gridcolor": "white",
           "linecolor": "white",
           "ticks": "",
           "title": {
            "standoff": 15
           },
           "zerolinecolor": "white",
           "zerolinewidth": 2
          },
          "yaxis": {
           "automargin": true,
           "gridcolor": "white",
           "linecolor": "white",
           "ticks": "",
           "title": {
            "standoff": 15
           },
           "zerolinecolor": "white",
           "zerolinewidth": 2
          }
         }
        },
        "title": {
         "text": "Patching with Alex/Hart/Sarah"
        },
        "width": 800,
        "xaxis": {
         "anchor": "y",
         "constrain": "domain",
         "domain": [
          0,
          1
         ],
         "scaleanchor": "y",
         "title": {
          "text": "pos"
         }
        },
        "yaxis": {
         "anchor": "x",
         "autorange": "reversed",
         "constrain": "domain",
         "domain": [
          0,
          1
         ],
         "title": {
          "text": "layer"
         }
        }
       }
      }
     },
     "metadata": {},
     "output_type": "display_data"
    }
   ],
   "source": [
    "plot_logit_diff(corrupt_continuation, \"Patching with Alex/Hart/Sarah\", corrupt_cache_3)"
   ]
  },
  {
   "cell_type": "markdown",
   "metadata": {},
   "source": [
    "## Method 2: Attention head patching"
   ]
  },
  {
   "cell_type": "code",
   "execution_count": null,
   "metadata": {},
   "outputs": [],
   "source": []
  }
 ],
 "metadata": {
  "kernelspec": {
   "display_name": ".venv",
   "language": "python",
   "name": "python3"
  },
  "language_info": {
   "codemirror_mode": {
    "name": "ipython",
    "version": 3
   },
   "file_extension": ".py",
   "mimetype": "text/x-python",
   "name": "python",
   "nbconvert_exporter": "python",
   "pygments_lexer": "ipython3",
   "version": "3.11.7"
  }
 },
 "nbformat": 4,
 "nbformat_minor": 2
}
